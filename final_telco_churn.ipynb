{
 "cells": [
  {
   "cell_type": "code",
   "execution_count": 1,
   "metadata": {},
   "outputs": [],
   "source": [
    "import pandas as pd\n",
    "import numpy as np\n",
    "import matplotlib.pyplot as plt\n",
    "import seaborn as sns\n",
    "from pydataset import data\n",
    "from sklearn.model_selection import train_test_split\n",
    "from sklearn.impute import SimpleImputer\n",
    "import scipy.stats as stats\n",
    "from sklearn.ensemble import RandomForestClassifier\n",
    "from sklearn.tree import export_graphviz\n",
    "from sklearn.metrics import classification_report\n",
    "from sklearn.metrics import confusion_matrix\n",
    "from sklearn.linear_model import LogisticRegression\n",
    "from sklearn.neighbors import KNeighborsClassifier\n",
    "\n",
    "\n",
    "\n",
    "\n",
    "\n",
    "import warnings\n",
    "warnings.filterwarnings(\"ignore\")\n",
    "\n",
    "\n",
    "import acquire\n",
    "import telco_prep\n"
   ]
  },
  {
   "cell_type": "markdown",
   "metadata": {},
   "source": [
    "# Predicting Customer Churn - Classification Project\n",
    "Project Goal\n",
    "- The goal of this project is to use statistical analysis and models on the Telco database in order to accurately predict customer churn and identify the keys drivers. We can measure the success of the model's predicitions by asssessing the accuracy of the model and to monitor future churn to evaluate if overall churn decreases or increases after implenting the recommendations. \n",
    "\n",
    "Project Description\n",
    "- The telecommunication business is extremely competitive and keeping a customer is cheaper than acquiring a new one. One way to secure revenue is to try to maximize the amount of current customers staying with the company and to understand the factors of churn in order to minimize customers leaving. To acheive this, we will look at our customer database to try an pinpoint the cause of churn and identify ways to lower the company's overall churn ratio.  Previous work shown that higher monthly charges and shorter tenure tends to churn more than longer term contracts. In order to analyze monthly costs, I will be looking into our bundled services with phone and internet as well as churn rates for overall monthly charges.\n",
    "\n",
    "\n",
    "Questions:\n",
    " 1: Do the customers who churn pay on average the same amount as those who do not churn?\n",
    " -           Null Hypothesis: Customers who churn pay on average less than or equal amount to non-churning customers \n",
    " -            Alt Hypothesis: Customers who churn pay more than customer who do not churn   \n",
    "\n",
    " 2: Are customers with fiber optic more or less likely to churn?\n",
    " -          Null Hypothesis: Fiber Optic customers churn less than or equal amount to non-fiber optic customers \n",
    " -           Alt Hypothesis: Fiber Optic customers pay more than non-fiber optic customers      \n",
    "\n",
    " 3: Are month to month customers more or less likely to churn?\n",
    "-            Null Hypothesis: Month to month customers churn less than or equal amount to contracted customers \n",
    "-            Alt Hypothesis: Month to month customers churn more than contracted customers      \n",
    "   \n",
    "4: Does bundling of internet and telephone services mean customers are less likely to churn than just internet or just phone customers?\n",
    "\n",
    "-            Null Hypothesis - Customers who bundled are equal or more likely to churn.\n",
    "-            Alt Hypothesis - Customer who bundled internet and phone are less likely to churn.\n",
    "\n",
    "\n",
    "# Data Dictionary For Telco Churn\n",
    "\n",
    "partner -- Yes or No -- Does the customer have a partner\n",
    "\n",
    "dependents -- Yes or No -- Does the customer have dependents\n",
    "\n",
    "tenure -- Length of time with company\n",
    "\n",
    "phone_service -- Yes or No -- Does the customer have phone service\n",
    "\n",
    "multiple_lines -- Yes or No -- Does the customer have multiple phone lines\n",
    "\n",
    "online_security -- Yes or No -- Does the customer have online security\n",
    "\n",
    "online_backup -- Yes or No -- Does the customer have online backup\n",
    "\n",
    "device_protection -- Yes or No -- Does the customer have device protection\n",
    "\n",
    "tech_support -- Yes or No -- Does the customer have tech support\n",
    "\n",
    "streaming_tv -- Yes or No -- Does the customer have streaming tv\n",
    "\n",
    "streaming_movies -- Yes or No -- Does the customer have streaming movies\n",
    "\n",
    "paperless_billing -- Yes or No -- Does the customer have paperless billing\n",
    "\n",
    "monthly_charges -- Amount of monthly charge for customer\n",
    "\n",
    "total_charges -- chrages occured over time\n",
    "\n",
    "churn -- if customer left company -- Yes or No\n",
    "\n",
    "contract_type -- month to month, one year, two year \n",
    "\n",
    "payment_type -- mailed check, electronic check, credit card\n",
    "\n",
    "internet_service_type -- Type of internet service customer has No Service, DSL, Fiber Optic\n",
    "\n",
    "manual_pay -- If customer paid by electronic or mailed check \n",
    "\n",
    "Bundled -- 1 for cust has internet and phone\n",
    "\n",
    "monthly_charge_groups -- monthly charges divided in 20% groups\n",
    "\n",
    "total_charge_groups -- total charges divided into 10% groups\n",
    "\n",
    "The encoded values replace yes with 1 and no with 0\n",
    "\n",
    "bundled_monthly -- 1 for month to month contract and has internet and phone"
   ]
  },
  {
   "cell_type": "markdown",
   "metadata": {},
   "source": [
    "## Data Acquisition\n",
    "- To acquire the data, I used mySQL to select * from customers to pull in all the Telco Churn Data."
   ]
  },
  {
   "cell_type": "code",
   "execution_count": 2,
   "metadata": {},
   "outputs": [
    {
     "data": {
      "text/html": [
       "<div>\n",
       "<style scoped>\n",
       "    .dataframe tbody tr th:only-of-type {\n",
       "        vertical-align: middle;\n",
       "    }\n",
       "\n",
       "    .dataframe tbody tr th {\n",
       "        vertical-align: top;\n",
       "    }\n",
       "\n",
       "    .dataframe thead th {\n",
       "        text-align: right;\n",
       "    }\n",
       "</style>\n",
       "<table border=\"1\" class=\"dataframe\">\n",
       "  <thead>\n",
       "    <tr style=\"text-align: right;\">\n",
       "      <th></th>\n",
       "      <th>Unnamed: 0</th>\n",
       "      <th>internet_service_type_id</th>\n",
       "      <th>payment_type_id</th>\n",
       "      <th>contract_type_id</th>\n",
       "      <th>customer_id</th>\n",
       "      <th>gender</th>\n",
       "      <th>senior_citizen</th>\n",
       "      <th>partner</th>\n",
       "      <th>dependents</th>\n",
       "      <th>tenure</th>\n",
       "      <th>...</th>\n",
       "      <th>tech_support</th>\n",
       "      <th>streaming_tv</th>\n",
       "      <th>streaming_movies</th>\n",
       "      <th>paperless_billing</th>\n",
       "      <th>monthly_charges</th>\n",
       "      <th>total_charges</th>\n",
       "      <th>churn</th>\n",
       "      <th>contract_type</th>\n",
       "      <th>payment_type</th>\n",
       "      <th>internet_service_type</th>\n",
       "    </tr>\n",
       "  </thead>\n",
       "  <tbody>\n",
       "    <tr>\n",
       "      <th>0</th>\n",
       "      <td>0</td>\n",
       "      <td>1</td>\n",
       "      <td>2</td>\n",
       "      <td>2</td>\n",
       "      <td>0002-ORFBO</td>\n",
       "      <td>Female</td>\n",
       "      <td>0</td>\n",
       "      <td>Yes</td>\n",
       "      <td>Yes</td>\n",
       "      <td>9</td>\n",
       "      <td>...</td>\n",
       "      <td>Yes</td>\n",
       "      <td>Yes</td>\n",
       "      <td>No</td>\n",
       "      <td>Yes</td>\n",
       "      <td>65.6</td>\n",
       "      <td>593.3</td>\n",
       "      <td>No</td>\n",
       "      <td>One year</td>\n",
       "      <td>Mailed check</td>\n",
       "      <td>DSL</td>\n",
       "    </tr>\n",
       "    <tr>\n",
       "      <th>1</th>\n",
       "      <td>1</td>\n",
       "      <td>1</td>\n",
       "      <td>2</td>\n",
       "      <td>1</td>\n",
       "      <td>0003-MKNFE</td>\n",
       "      <td>Male</td>\n",
       "      <td>0</td>\n",
       "      <td>No</td>\n",
       "      <td>No</td>\n",
       "      <td>9</td>\n",
       "      <td>...</td>\n",
       "      <td>No</td>\n",
       "      <td>No</td>\n",
       "      <td>Yes</td>\n",
       "      <td>No</td>\n",
       "      <td>59.9</td>\n",
       "      <td>542.4</td>\n",
       "      <td>No</td>\n",
       "      <td>Month-to-month</td>\n",
       "      <td>Mailed check</td>\n",
       "      <td>DSL</td>\n",
       "    </tr>\n",
       "    <tr>\n",
       "      <th>2</th>\n",
       "      <td>2</td>\n",
       "      <td>2</td>\n",
       "      <td>1</td>\n",
       "      <td>1</td>\n",
       "      <td>0004-TLHLJ</td>\n",
       "      <td>Male</td>\n",
       "      <td>0</td>\n",
       "      <td>No</td>\n",
       "      <td>No</td>\n",
       "      <td>4</td>\n",
       "      <td>...</td>\n",
       "      <td>No</td>\n",
       "      <td>No</td>\n",
       "      <td>No</td>\n",
       "      <td>Yes</td>\n",
       "      <td>73.9</td>\n",
       "      <td>280.85</td>\n",
       "      <td>Yes</td>\n",
       "      <td>Month-to-month</td>\n",
       "      <td>Electronic check</td>\n",
       "      <td>Fiber optic</td>\n",
       "    </tr>\n",
       "    <tr>\n",
       "      <th>3</th>\n",
       "      <td>3</td>\n",
       "      <td>2</td>\n",
       "      <td>1</td>\n",
       "      <td>1</td>\n",
       "      <td>0011-IGKFF</td>\n",
       "      <td>Male</td>\n",
       "      <td>1</td>\n",
       "      <td>Yes</td>\n",
       "      <td>No</td>\n",
       "      <td>13</td>\n",
       "      <td>...</td>\n",
       "      <td>No</td>\n",
       "      <td>Yes</td>\n",
       "      <td>Yes</td>\n",
       "      <td>Yes</td>\n",
       "      <td>98.0</td>\n",
       "      <td>1237.85</td>\n",
       "      <td>Yes</td>\n",
       "      <td>Month-to-month</td>\n",
       "      <td>Electronic check</td>\n",
       "      <td>Fiber optic</td>\n",
       "    </tr>\n",
       "    <tr>\n",
       "      <th>4</th>\n",
       "      <td>4</td>\n",
       "      <td>2</td>\n",
       "      <td>2</td>\n",
       "      <td>1</td>\n",
       "      <td>0013-EXCHZ</td>\n",
       "      <td>Female</td>\n",
       "      <td>1</td>\n",
       "      <td>Yes</td>\n",
       "      <td>No</td>\n",
       "      <td>3</td>\n",
       "      <td>...</td>\n",
       "      <td>Yes</td>\n",
       "      <td>Yes</td>\n",
       "      <td>No</td>\n",
       "      <td>Yes</td>\n",
       "      <td>83.9</td>\n",
       "      <td>267.4</td>\n",
       "      <td>Yes</td>\n",
       "      <td>Month-to-month</td>\n",
       "      <td>Mailed check</td>\n",
       "      <td>Fiber optic</td>\n",
       "    </tr>\n",
       "  </tbody>\n",
       "</table>\n",
       "<p>5 rows × 25 columns</p>\n",
       "</div>"
      ],
      "text/plain": [
       "   Unnamed: 0  internet_service_type_id  payment_type_id  contract_type_id  \\\n",
       "0           0                         1                2                 2   \n",
       "1           1                         1                2                 1   \n",
       "2           2                         2                1                 1   \n",
       "3           3                         2                1                 1   \n",
       "4           4                         2                2                 1   \n",
       "\n",
       "  customer_id  gender  senior_citizen partner dependents  tenure  ...  \\\n",
       "0  0002-ORFBO  Female               0     Yes        Yes       9  ...   \n",
       "1  0003-MKNFE    Male               0      No         No       9  ...   \n",
       "2  0004-TLHLJ    Male               0      No         No       4  ...   \n",
       "3  0011-IGKFF    Male               1     Yes         No      13  ...   \n",
       "4  0013-EXCHZ  Female               1     Yes         No       3  ...   \n",
       "\n",
       "  tech_support streaming_tv streaming_movies paperless_billing  \\\n",
       "0          Yes          Yes               No               Yes   \n",
       "1           No           No              Yes                No   \n",
       "2           No           No               No               Yes   \n",
       "3           No          Yes              Yes               Yes   \n",
       "4          Yes          Yes               No               Yes   \n",
       "\n",
       "  monthly_charges total_charges churn   contract_type      payment_type  \\\n",
       "0            65.6         593.3    No        One year      Mailed check   \n",
       "1            59.9         542.4    No  Month-to-month      Mailed check   \n",
       "2            73.9        280.85   Yes  Month-to-month  Electronic check   \n",
       "3            98.0       1237.85   Yes  Month-to-month  Electronic check   \n",
       "4            83.9         267.4   Yes  Month-to-month      Mailed check   \n",
       "\n",
       "   internet_service_type  \n",
       "0                    DSL  \n",
       "1                    DSL  \n",
       "2            Fiber optic  \n",
       "3            Fiber optic  \n",
       "4            Fiber optic  \n",
       "\n",
       "[5 rows x 25 columns]"
      ]
     },
     "execution_count": 2,
     "metadata": {},
     "output_type": "execute_result"
    }
   ],
   "source": [
    "# assigned the dataframe to teclo_df and checked head to make sure I acquired the right data\n",
    "telco_df = acquire.get_telco_data()\n",
    "\n",
    "telco_df.head()"
   ]
  },
  {
   "cell_type": "markdown",
   "metadata": {},
   "source": [
    "## Data Acquisition\n",
    "Acquire the data from SQL by using an env file and an acquire.py file to pull multiple tables from the telco dataset from the SQL server into my notebook. \n",
    "-       The tables I pulled are: customers, payment_types, internet_service_types, and contract_types."
   ]
  },
  {
   "cell_type": "markdown",
   "metadata": {},
   "source": [
    "## Data Cleaning and Prep"
   ]
  },
  {
   "cell_type": "code",
   "execution_count": 3,
   "metadata": {},
   "outputs": [
    {
     "name": "stdout",
     "output_type": "stream",
     "text": [
      "<class 'pandas.core.frame.DataFrame'>\n",
      "RangeIndex: 7043 entries, 0 to 7042\n",
      "Data columns (total 25 columns):\n",
      " #   Column                    Non-Null Count  Dtype  \n",
      "---  ------                    --------------  -----  \n",
      " 0   Unnamed: 0                7043 non-null   int64  \n",
      " 1   internet_service_type_id  7043 non-null   int64  \n",
      " 2   payment_type_id           7043 non-null   int64  \n",
      " 3   contract_type_id          7043 non-null   int64  \n",
      " 4   customer_id               7043 non-null   object \n",
      " 5   gender                    7043 non-null   object \n",
      " 6   senior_citizen            7043 non-null   int64  \n",
      " 7   partner                   7043 non-null   object \n",
      " 8   dependents                7043 non-null   object \n",
      " 9   tenure                    7043 non-null   int64  \n",
      " 10  phone_service             7043 non-null   object \n",
      " 11  multiple_lines            7043 non-null   object \n",
      " 12  online_security           7043 non-null   object \n",
      " 13  online_backup             7043 non-null   object \n",
      " 14  device_protection         7043 non-null   object \n",
      " 15  tech_support              7043 non-null   object \n",
      " 16  streaming_tv              7043 non-null   object \n",
      " 17  streaming_movies          7043 non-null   object \n",
      " 18  paperless_billing         7043 non-null   object \n",
      " 19  monthly_charges           7043 non-null   float64\n",
      " 20  total_charges             7043 non-null   object \n",
      " 21  churn                     7043 non-null   object \n",
      " 22  contract_type             7043 non-null   object \n",
      " 23  payment_type              7043 non-null   object \n",
      " 24  internet_service_type     7043 non-null   object \n",
      "dtypes: float64(1), int64(6), object(18)\n",
      "memory usage: 1.3+ MB\n"
     ]
    }
   ],
   "source": [
    "# Two lines of code here to check for nulls and the info to see what I need to prep for exploration.\n",
    "telco_df.isnull().sum()\n",
    "telco_df.info()"
   ]
  },
  {
   "cell_type": "code",
   "execution_count": 4,
   "metadata": {},
   "outputs": [],
   "source": [
    "# Using my .py file to import in the function to prep the data and introduce some feature engineering\n",
    "telco_df = telco_prep.prep_telco_data(telco_df)"
   ]
  },
  {
   "cell_type": "code",
   "execution_count": 5,
   "metadata": {},
   "outputs": [],
   "source": [
    "# Splitting the data using sklean to ensure no data leakage and avoid overfitting\n",
    "telco_train, telco_validate, telco_test = telco_prep.split_telco(telco_df)"
   ]
  },
  {
   "cell_type": "markdown",
   "metadata": {},
   "source": [
    "During my initial acquisition I noticed a couple of items that needed change/attention\n",
    "- First I noticed total_charges had empty spaces so I stripped those\n",
    "- Second total_charges was an object which needed to be transformed into a float format\n",
    "- Third I wanted to remove the redudant columns that end in '_id' becuase they match more informative columns within the dataframe already\n",
    "- In order to help model and analyze the categorical comlumns, I encoded the columns to be 1 or 0\n",
    "- To further analyze monthly payments, I made a column and grouped them together to better understand the variance in monthly charges\n",
    "- To prepare the data, I used a prepare.py file which holds functions to execute the above actions. Please see prepare.py file on github to see the code\n",
    "- Additionally, I ran a train, validate, test function to split the data and ensure no leakage when exploring and building the models. \n",
    "- To see how bundled customers are affected by churn, I made new column to for customers with phone and internet\n",
    "- Knowing month to month customers churn higher, I added a column for month to month customers who bundle internet and phone.\n",
    "- Columns were also made to explore how customers with streaming or security features and internet are affected by churn."
   ]
  },
  {
   "cell_type": "markdown",
   "metadata": {},
   "source": [
    "## Overall stats and baseline\n",
    "-- Entire df: Total rows: 7043 Total Columns: 24\n",
    "\n",
    "After prep and split functions:\n",
    " Train shape: 4500, 69\n",
    " Validate shape: 1125, 69\n",
    " Test shape: 1407, 69\n",
    "\n",
    " Overall churn rate: 27%\n",
    " Baseline prediction using most popular 'no churn': 73% to which I will be comparing my models against. "
   ]
  },
  {
   "cell_type": "markdown",
   "metadata": {},
   "source": [
    "# Exploration\n",
    "\n",
    "Please view my working notebook to see my entire procress on exploration. Here I will be showing my visuals for my specific questions, findings, and answers.\n",
    "\n",
    "\n",
    "### Question 1: Do the customers who churn pay on average the same amount as those who do not churn?\n",
    "-            Null Hypothesis: Customers who churn pay on average less than or equal amount to non-churning customers \n",
    "-            Alt Hypothesis: Customers who churn pay more than customer who do not churn\n"
   ]
  },
  {
   "cell_type": "code",
   "execution_count": 52,
   "metadata": {},
   "outputs": [
    {
     "data": {
      "text/plain": [
       "Text(0.5, 1.0, 'Monthly Charge vs Churn')"
      ]
     },
     "execution_count": 52,
     "metadata": {},
     "output_type": "execute_result"
    },
    {
     "data": {
      "image/png": "[encoded data removed]",
      "text/plain": [
       "<Figure size 432x288 with 1 Axes>"
      ]
     },
     "metadata": {
      "needs_background": "light"
     },
     "output_type": "display_data"
    }
   ],
   "source": [
    "#Vizulizing the churn rate compared to monthly charges with a black line for overall churn mean\n",
    "sns.violinplot('churn', 'monthly_charges', data=telco_train, alpha= .25)\n",
    "plt.axhline(telco_train.monthly_charges.mean(), ls = '--', color = 'black')\n",
    "plt.xlabel('Monthly Charges')\n",
    "plt.ylabel('Monthly Charges')\n",
    "plt.title('Monthly Charge vs Churn')"
   ]
  },
  {
   "cell_type": "markdown",
   "metadata": {},
   "source": [
    "This graph does show that monthy charges are higher for customers who churn vs. customers who do not. To gain more insight on churn levels, I divided the monthly charges into groups to see what levels incurred higher churn. To find statistical significance I will use a t-test to determine"
   ]
  },
  {
   "cell_type": "code",
   "execution_count": 7,
   "metadata": {},
   "outputs": [
    {
     "name": "stdout",
     "output_type": "stream",
     "text": [
      "We reject the null hypothesis and this variable is statistically significant\n"
     ]
    }
   ],
   "source": [
    "# Preforming a T test for contiunous monthly charges against categorical churn\n",
    "a = 0.01\n",
    "t, p = stats.ttest_ind(telco_train.monthly_charges, telco_train.churn_encoded, equal_var=False)\n",
    "t, p \n",
    "\n",
    "if p < a:\n",
    "    print(\"We reject the null hypothesis and this variable is statistically significant\")\n",
    "else:\n",
    "    print(\"We fail to reject the null hypothesis and this feature is not statisitcally significant\")"
   ]
  },
  {
   "cell_type": "code",
   "execution_count": 45,
   "metadata": {},
   "outputs": [
    {
     "data": {
      "text/plain": [
       "Text(0.5, 1.0, 'Monthly Charge Groups')"
      ]
     },
     "execution_count": 45,
     "metadata": {},
     "output_type": "execute_result"
    },
    {
     "data": {
      "image/png": "[encoded data removed]",
      "text/plain": [
       "<Figure size 432x288 with 1 Axes>"
      ]
     },
     "metadata": {
      "needs_background": "light"
     },
     "output_type": "display_data"
    }
   ],
   "source": [
    "# Breaking down the monthly charges into 5 equal sessions to see where churn occurs the most. Chart has overal churn mean as the black line \n",
    "sns.barplot(x = 'churn_encoded', y ='monthly_charge_groups', data=telco_train, alpha=.5)\n",
    "plt.axvline(telco_train.churn_encoded.mean(), ls = '--', color = 'black')\n",
    "plt.xlabel('Churn Rate')\n",
    "plt.ylabel('Average monthly charge')\n",
    "plt.title('Monthly Charge Groups')"
   ]
  },
  {
   "cell_type": "markdown",
   "metadata": {},
   "source": [
    "Breaking down the monthly charges helps visulaize churn rates at thoughout the increasing intervals. We can see that churn steadily increases as the monthly payments increase,until the last 20%. Athough the last group is lower than previous it is still the second highest. The highest churn occurs in the 60-79% range with an average os $86 monthly payments. \n",
    "\n",
    "Answer: We can confidently say that customers who churn pay more monthly than customers who do not churn. After statistical testing, we reject our null hypothesis"
   ]
  },
  {
   "cell_type": "markdown",
   "metadata": {},
   "source": [
    "### Question 2: Are customers with fiber optic more or less likely to churn?\n",
    "-            Null Hypothesis: Fiber Optic customers churn less than or equal amount to non-fiber optic customers \n",
    "-            Alt Hypothesis: Fiber Optic customers pay more than non-fiber optic customers      "
   ]
  },
  {
   "cell_type": "code",
   "execution_count": 44,
   "metadata": {},
   "outputs": [
    {
     "data": {
      "text/plain": [
       "Text(0.5, 1.0, 'Service Type Churn Rate')"
      ]
     },
     "execution_count": 44,
     "metadata": {},
     "output_type": "execute_result"
    },
    {
     "data": {
      "image/png": "[encoded data removed]",
      "text/plain": [
       "<Figure size 432x288 with 1 Axes>"
      ]
     },
     "metadata": {
      "needs_background": "light"
     },
     "output_type": "display_data"
    }
   ],
   "source": [
    "# Plotting out internet service type against churn with overal churn mean as the black line\n",
    "sns.barplot('internet_service_type', 'churn_encoded', data=telco_train, alpha=.5)\n",
    "plt.axhline(telco_train.churn_encoded.mean(), ls = '--', color = 'black')\n",
    "plt.xlabel('Service Type')\n",
    "plt.ylabel('Churn Rate')\n",
    "plt.title('Service Type Churn Rate')"
   ]
  },
  {
   "cell_type": "markdown",
   "metadata": {},
   "source": [
    "The graph above shows the churn rate of each type of internet Telco offers. It is easy to see that Fiber Optic internet has churn rate double the next closest service type, DSL. \n",
    "In the prep stage I encoded internet_service_types so that I can can test fiber optic statistically and enter it into the models."
   ]
  },
  {
   "cell_type": "code",
   "execution_count": 10,
   "metadata": {},
   "outputs": [
    {
     "name": "stdout",
     "output_type": "stream",
     "text": [
      "We reject the null hypothesis and this variable is statistically significant\n"
     ]
    }
   ],
   "source": [
    "# Making a crosstab to preform a chi squared test on my target variable\n",
    "internet_service_stat = pd.crosstab(telco_train['internet_service_type_Fiber optic'], telco_train.churn_encoded)\n",
    "\n",
    "a = 0.01\n",
    "\n",
    "chi2, p, degf, expected = stats.chi2_contingency(internet_service_stat)\n",
    "\n",
    "if p < a:\n",
    "    print(\"We reject the null hypothesis and this variable is statistically significant\")\n",
    "else:\n",
    "    print(\"We fail to reject the null hypothesis and this feature is not statisitcally significant\")"
   ]
  },
  {
   "cell_type": "markdown",
   "metadata": {},
   "source": [
    "### Question 3: Are month to month customers more or less likely to churn?\n",
    "-            Null Hypothesis: Month to month customers churn less than or equal amount to contracted customers \n",
    "-           Alt Hypothesis: Month to month customers churn more than contracted customers  "
   ]
  },
  {
   "cell_type": "code",
   "execution_count": 43,
   "metadata": {},
   "outputs": [
    {
     "data": {
      "text/plain": [
       "Text(0.5, 1.0, 'Contract type Curn')"
      ]
     },
     "execution_count": 43,
     "metadata": {},
     "output_type": "execute_result"
    },
    {
     "data": {
      "image/png": "[encoded data removed]",
      "text/plain": [
       "<Figure size 432x288 with 1 Axes>"
      ]
     },
     "metadata": {
      "needs_background": "light"
     },
     "output_type": "display_data"
    }
   ],
   "source": [
    "# Vizualizing the contract type against the rate of churn with churn mean as the black line\n",
    "sns.barplot('contract_type', 'churn_encoded', data=telco_train, alpha=.5)\n",
    "plt.axhline(telco_train.churn_encoded.mean(), ls = '--', color = 'black')\n",
    "plt.xlabel('Contract Type Churn Rate')\n",
    "plt.ylabel('Churn Rate')\n",
    "plt.title('Contract type Curn')"
   ]
  },
  {
   "cell_type": "markdown",
   "metadata": {},
   "source": [
    "Here we can see that month to month significantly increases customer churn rate. For the statistical test and models, I will use the encoded feature. "
   ]
  },
  {
   "cell_type": "code",
   "execution_count": 12,
   "metadata": {},
   "outputs": [
    {
     "name": "stdout",
     "output_type": "stream",
     "text": [
      "We reject the null hypothesis and this variable is statistically significant\n"
     ]
    }
   ],
   "source": [
    "# Created a crosstab to preform Chi Square test against target variable\n",
    "contract_stat = pd.crosstab(telco_train['contract_type_Month-to-month'], telco_train.churn_encoded)\n",
    "\n",
    "\n",
    "a = 0.01\n",
    "\n",
    "chi2, p, degf, expected = stats.chi2_contingency(contract_stat)\n",
    "\n",
    "if p < a:\n",
    "    print(\"We reject the null hypothesis and this variable is statistically significant\")\n",
    "else:\n",
    "    print(\"We fail to reject the null hypothesis and this feature is not statisitcally significant\")"
   ]
  },
  {
   "cell_type": "markdown",
   "metadata": {},
   "source": [
    "### Question 4: Does bundling of internet and telephone services mean customers churn more than customers with just internet or just phone customers?\n",
    "-            Null Hypothesis - Customer who bundled internet and phone are less likely to churn.\n",
    "-            Alt Hypothesis - Customers who bundled are equal or more likely to churn."
   ]
  },
  {
   "cell_type": "code",
   "execution_count": 42,
   "metadata": {},
   "outputs": [
    {
     "data": {
      "text/plain": [
       "Text(0.5, 1.0, 'Bundled Vs. Churn')"
      ]
     },
     "execution_count": 42,
     "metadata": {},
     "output_type": "execute_result"
    },
    {
     "data": {
      "image/png": "[encoded data removed]",
      "text/plain": [
       "<Figure size 360x360 with 1 Axes>"
      ]
     },
     "metadata": {
      "needs_background": "light"
     },
     "output_type": "display_data"
    }
   ],
   "source": [
    "# Chart to vizualize the those who bundle and churn compared to non bunlded customers\n",
    "sns.catplot(x = 'Bundled', y ='churn_encoded', data=telco_train, alpha=.5, kind='bar')\n",
    "plt.axhline(telco_train.churn_encoded.mean(), ls = '--', color = 'black')\n",
    "plt.xlabel('Bundled Customers')\n",
    "plt.ylabel('Churn Rate')\n",
    "plt.title('Bundled Vs. Churn')"
   ]
  },
  {
   "cell_type": "markdown",
   "metadata": {},
   "source": [
    "The majority of customers bundle their internet and phone. The graph above shows that bundled customers churn more than none bundled. "
   ]
  },
  {
   "cell_type": "code",
   "execution_count": 14,
   "metadata": {},
   "outputs": [
    {
     "name": "stdout",
     "output_type": "stream",
     "text": [
      "We reject the null hypothesis and this variable is statistically significant\n"
     ]
    }
   ],
   "source": [
    "# created a crosstab to preform the chi square test on my target variable \n",
    "bundled_stat = pd.crosstab(telco_train.Bundled, telco_train.churn_encoded)\n",
    "\n",
    "# setting confidence level\n",
    "a = 0.01\n",
    "\n",
    "#assigning the results of the test to variables\n",
    "chi2, p, degf, expected = stats.chi2_contingency(bundled_stat)\n",
    "\n",
    "if p < a:\n",
    "    print(\"We reject the null hypothesis and this variable is statistically significant\")\n",
    "else:\n",
    "    print(\"We fail to reject the null hypothesis and this feature is not statisitcally significant\")"
   ]
  },
  {
   "cell_type": "markdown",
   "metadata": {},
   "source": [
    "## Predicting Churn - Exploration Summary\n",
    "Based off my EDA, I will be using the above features as well as my background knowledge of payment type and tenure to build my model. \n",
    "\n",
    "Key takeaways from my exploration questions:\n",
    "- Monthly Charges plays significant role in factors of churn\n",
    "- Customers with Fiber internet are significantly more likely churn than those without\n",
    "- Month to month customers are significantly more likely to churn than those with contracts\n",
    "- Customers who bundle are more likely to churn than those who do not.\n",
    "\n",
    "Based on the results of the tests and analysis, I will be including these features in my model.\n",
    "\n",
    "Other features that I include will be based on background knowledge and relationship to the features from questions:\n",
    "- One year and two year contracts which relate to month to month conracts\n",
    "- Payment type of electronic check from previous work showing statistical significance\n",
    "- Tenure is added to the model for the same reason as above.\n",
    "- Bundled monthly which combines month to month and bundled with internet and phone "
   ]
  },
  {
   "cell_type": "markdown",
   "metadata": {},
   "source": [
    "# Modeling to Predict Churn\n",
    "\n",
    "- We will pick the best model from each loop based on my working file where I looped through K Nearest Neighbor, Random Forest, and Logistic Regression to find ideal hyperparameters. \n",
    "- All three models will use the same variables and start with with train only. Second is tested on validate to test out of sample and from out of sample, I will pick the highest overal accuracy. \n",
    "- To find the best model, I will use the best accuracy against my validate portion of the data. \n",
    "\n",
    "## Baseline\n",
    "- As determined above, my baseline will be 73% or the equivelent of guessing that every customer would not churn"
   ]
  },
  {
   "cell_type": "markdown",
   "metadata": {},
   "source": [
    "### Assigning variables"
   ]
  },
  {
   "cell_type": "code",
   "execution_count": 15,
   "metadata": {},
   "outputs": [],
   "source": [
    "# Setting my x variables to be the features I selected during my eda to model and setting my y variable to be the target of churn\n",
    "x_vars = ['monthly_charges', 'contract_type_One year', 'contract_type_Two year', 'contract_type_Month-to-month', 'bundled_monthly',  'internet_service_type_Fiber optic', 'payment_type_Electronic check', 'tenure']\n",
    "y_vars = 'churn_encoded'\n",
    "\n",
    "# Splitting the data into testing sections to run the model without any leakage and to detect for overfitting\n",
    "X_train, y_train = telco_train[x_vars], telco_train[y_vars]\n",
    "x_validate, y_validate = telco_validate[x_vars], telco_validate[y_vars]\n",
    "x_test, y_test = telco_test[x_vars], telco_test[y_vars]"
   ]
  },
  {
   "cell_type": "markdown",
   "metadata": {},
   "source": [
    "## First model is Logistic Regression"
   ]
  },
  {
   "cell_type": "code",
   "execution_count": 16,
   "metadata": {},
   "outputs": [
    {
     "name": "stdout",
     "output_type": "stream",
     "text": [
      "Model trained on selected features\n",
      "Accuracy of Logistic Regression classifier on training set: 79.13%\n"
     ]
    }
   ],
   "source": [
    "# Using my exploration file I chose the best level of c for the model to use here. \n",
    "logit1 = LogisticRegression(random_state=123, C=1)\n",
    "\n",
    "# Fitting the model to the train dataset\n",
    "logit1.fit(X_train, y_train)\n",
    "\n",
    "\n",
    "# Using the score function to print the model's preformance on the train set\n",
    "print(\"Model trained on selected features\")\n",
    "print('Accuracy of Logistic Regression classifier on training set: {:.2%}'\n",
    "     .format(logit1.score(X_train, y_train)))"
   ]
  },
  {
   "cell_type": "code",
   "execution_count": 17,
   "metadata": {},
   "outputs": [
    {
     "name": "stdout",
     "output_type": "stream",
     "text": [
      "Accuracy of random forest classifier on validate set: 77.60%\n"
     ]
    }
   ],
   "source": [
    "# Using the score function to print the model's preformance on the validate set\n",
    "print('Accuracy of random forest classifier on validate set: {:.2%}'\n",
    "     .format(logit1.score(x_validate, y_validate)))"
   ]
  },
  {
   "cell_type": "markdown",
   "metadata": {},
   "source": [
    "## Second Model is K Nearest Neighbors"
   ]
  },
  {
   "cell_type": "code",
   "execution_count": 18,
   "metadata": {},
   "outputs": [
    {
     "name": "stdout",
     "output_type": "stream",
     "text": [
      "Accuracy of KNN classifier on training set: 83.24%\n"
     ]
    }
   ],
   "source": [
    "# Create KNN Object\n",
    "knn = KNeighborsClassifier(n_neighbors=5, weights='uniform')\n",
    "\n",
    "# Fit object to training data\n",
    "knn.fit(X_train, y_train)\n",
    "\n",
    "# Make predictions on training data\n",
    "y_pred = knn.predict(X_train)\n",
    "\n",
    "# Using the score function to print the model's preformance on the training set\n",
    "print('Accuracy of KNN classifier on training set: {:.2%}'\n",
    "     .format(knn.score(X_train, y_train)))"
   ]
  },
  {
   "cell_type": "code",
   "execution_count": 19,
   "metadata": {},
   "outputs": [
    {
     "name": "stdout",
     "output_type": "stream",
     "text": [
      "Accuracy of random forest classifier on validate set: 75.47%\n"
     ]
    }
   ],
   "source": [
    "# Using the score function to print the model's preformance on the validate set\n",
    "print('Accuracy of random forest classifier on validate set: {:.2%}'\n",
    "     .format(knn.score(x_validate, y_validate)))"
   ]
  },
  {
   "cell_type": "markdown",
   "metadata": {},
   "source": [
    "## Third model is Random Forest"
   ]
  },
  {
   "cell_type": "code",
   "execution_count": 47,
   "metadata": {},
   "outputs": [
    {
     "name": "stdout",
     "output_type": "stream",
     "text": [
      "Accuracy of random forest classifier on training set: 80.24%\n"
     ]
    }
   ],
   "source": [
    "# Making the model for Random Forest using the max depth found in exploration loop and setting other hyperparameters\n",
    "rft = RandomForestClassifier(bootstrap=True, class_weight=None, criterion='gini', min_samples_leaf=10, n_estimators=100, max_depth=5,max_features='sqrt', random_state=123)\n",
    "\n",
    "# Fitting the model to the train data section\n",
    "rft.fit(X_train, y_train)\n",
    "\n",
    "\n",
    "# Using the score function to print the model's preformance on the train set\n",
    "print('Accuracy of random forest classifier on training set: {:.2%}'\n",
    "     .format(rft.score(X_train, y_train)))"
   ]
  },
  {
   "cell_type": "code",
   "execution_count": 21,
   "metadata": {},
   "outputs": [
    {
     "name": "stdout",
     "output_type": "stream",
     "text": [
      "Accuracy of random forest classifier on validate set: 78.13%\n"
     ]
    }
   ],
   "source": [
    "# Using the score function to print the model's preformance on the validate set\n",
    "print('Accuracy of random forest classifier on validate set: {:.2%}'\n",
    "     .format(rft.score(x_validate, y_validate)))"
   ]
  },
  {
   "cell_type": "markdown",
   "metadata": {},
   "source": [
    "## Model Take aways and selection\n",
    "- Looping through in my working notebook helped narrow some hyperparameters \n",
    "- I chose the models with a high accuracy and minimal distance between the train and validate set\n",
    "- All the models beat the baseline of 73%, but random forest had the best accuracy on the training set.\n",
    "- I chose random forest for the best model becuase it had the highest accuracy for the validate"
   ]
  },
  {
   "cell_type": "markdown",
   "metadata": {},
   "source": [
    "# Testing my best model, Random Forest, on the test set"
   ]
  },
  {
   "cell_type": "code",
   "execution_count": 22,
   "metadata": {},
   "outputs": [
    {
     "name": "stdout",
     "output_type": "stream",
     "text": [
      "Accuracy of random forest classifier on test set: 80.24%\n"
     ]
    }
   ],
   "source": [
    "#Using sklearn score feature to determine the accuracy of the model on the test segment of data and printing the results\n",
    "print('Accuracy of random forest classifier on test set: {:.2%}'\n",
    "     .format(rft.score(x_test, y_test)))"
   ]
  },
  {
   "cell_type": "markdown",
   "metadata": {},
   "source": [
    "\n",
    " ## Summary \n",
    "    1. Telco has a churn of 27%. The baseline to test against my models will be 73% which would be the accuracy if I did we guessed that a customer would not churn for all customers.  My model out preformed with an accuracy of 80.24% out preformed the baseline prediction. \n",
    "    \n",
    "    2. New Telco customers are more likely to churn than customers who have been with the company awhile. \n",
    "    \n",
    "    3. Monthly charges have a positive correlation to churn rate. As the monthly charge increases so does the likelyhood of churn.\n",
    "    \n",
    "    4. The top factors for churn include high monthly charges, month-to-month Contract, customers who bundle phone and internet, and customers with fiber optic internet\n",
    "\n",
    "\n",
    "## Recommendations\n",
    "-    I recommend the company to incentivize month to month customers to switch to a contract through some form of a discount.\n",
    "-  Have the company look at incentivizing fiber optic internet service  without bundling a phoneline.Currently all customers with fiber bundle their plan with a phoneline. Incentivizing a non-bundled would help lower the churn rate to that of non-bundled customers, which is less than half of overall churn rate. \n",
    "-  Additionally, customer with security features and tech support stay longer than customers without. Offering a bundle deal with those features will help reduce churn\n",
    "-  The company can look into updating their streaming service and offerings becuase customers churn less without streaming service, especially in fiber.  \n",
    "\n",
    "## Next Steps\n",
    "-  If possible, I would ask for pricing detail for every featue and service to breakdown why monthly charges trend higher with tenure.\n",
    "-  Ask if any promotions were in place for customers for signing up for all contract types.\n",
    "-  Implement more sophisticated models and hyperparametes to acheive a higher accuracy. \n"
   ]
  },
  {
   "cell_type": "markdown",
   "metadata": {},
   "source": [
    "# Preparing a CSV with the model's prediction"
   ]
  },
  {
   "cell_type": "code",
   "execution_count": 26,
   "metadata": {},
   "outputs": [],
   "source": [
    "# Reacquiring the data to have a fresh dataset with all columns \n",
    "total_df = acquire.get_telco_data()\n",
    "\n",
    "# Created a different prep function in order to keep customer_id, as requested in the deliverable\n",
    "total_df = telco_prep.predict_telco_data(total_df)\n",
    "\n",
    "# Seperating the data to use only the features used by my best model without dropping irrelevent columns\n",
    "predict_telco = total_df[x_vars]\n",
    "\n",
    "#Using the predict probability function to apply the probabilities to the entire data set for the deliverable and making a new column for the data\n",
    "total_df['probability'] = rft.predict_proba(predict_telco)[:,1]\n",
    "\n",
    "#Doing the same as above except for just the prediction if a customer will churn where churn = 1 and no churn = 0\n",
    "total_df['prediction'] = rft.predict(predict_telco)\n",
    "\n"
   ]
  },
  {
   "cell_type": "code",
   "execution_count": 28,
   "metadata": {},
   "outputs": [
    {
     "data": {
      "text/html": [
       "<div>\n",
       "<style scoped>\n",
       "    .dataframe tbody tr th:only-of-type {\n",
       "        vertical-align: middle;\n",
       "    }\n",
       "\n",
       "    .dataframe tbody tr th {\n",
       "        vertical-align: top;\n",
       "    }\n",
       "\n",
       "    .dataframe thead th {\n",
       "        text-align: right;\n",
       "    }\n",
       "</style>\n",
       "<table border=\"1\" class=\"dataframe\">\n",
       "  <thead>\n",
       "    <tr style=\"text-align: right;\">\n",
       "      <th></th>\n",
       "      <th>customer_id</th>\n",
       "      <th>probability</th>\n",
       "      <th>prediction</th>\n",
       "    </tr>\n",
       "  </thead>\n",
       "  <tbody>\n",
       "    <tr>\n",
       "      <th>0</th>\n",
       "      <td>0002-ORFBO</td>\n",
       "      <td>0.090373</td>\n",
       "      <td>0</td>\n",
       "    </tr>\n",
       "    <tr>\n",
       "      <th>1</th>\n",
       "      <td>0003-MKNFE</td>\n",
       "      <td>0.244938</td>\n",
       "      <td>0</td>\n",
       "    </tr>\n",
       "    <tr>\n",
       "      <th>2</th>\n",
       "      <td>0004-TLHLJ</td>\n",
       "      <td>0.664189</td>\n",
       "      <td>1</td>\n",
       "    </tr>\n",
       "    <tr>\n",
       "      <th>3</th>\n",
       "      <td>0011-IGKFF</td>\n",
       "      <td>0.643311</td>\n",
       "      <td>1</td>\n",
       "    </tr>\n",
       "    <tr>\n",
       "      <th>4</th>\n",
       "      <td>0013-EXCHZ</td>\n",
       "      <td>0.633093</td>\n",
       "      <td>1</td>\n",
       "    </tr>\n",
       "  </tbody>\n",
       "</table>\n",
       "</div>"
      ],
      "text/plain": [
       "  customer_id  probability  prediction\n",
       "0  0002-ORFBO     0.090373           0\n",
       "1  0003-MKNFE     0.244938           0\n",
       "2  0004-TLHLJ     0.664189           1\n",
       "3  0011-IGKFF     0.643311           1\n",
       "4  0013-EXCHZ     0.633093           1"
      ]
     },
     "execution_count": 28,
     "metadata": {},
     "output_type": "execute_result"
    }
   ],
   "source": [
    "# Making a new dataframe for the deliverable to only include the requested columns\n",
    "prediction_and_probability = total_df[['customer_id', 'probability', 'prediction']]\n",
    "\n",
    "# Checking the above code\n",
    "prediction_and_probability.head()\n",
    "\n",
    "# Saving the deliverable requirements to a csv file\n",
    "prediction_and_probability.to_csv('telco_predicition_and_probability.csv')"
   ]
  }
 ],
 "metadata": {
  "interpreter": {
   "hash": "38cca0c38332a56087b24af0bc80247f4fced29cb4f7f437d91dc159adec9c4e"
  },
  "kernelspec": {
   "display_name": "Python 3.9.12 ('base')",
   "language": "python",
   "name": "python3"
  },
  "language_info": {
   "codemirror_mode": {
    "name": "ipython",
    "version": 3
   },
   "file_extension": ".py",
   "mimetype": "text/x-python",
   "name": "python",
   "nbconvert_exporter": "python",
   "pygments_lexer": "ipython3",
   "version": "3.9.12"
  },
  "orig_nbformat": 4
 },
 "nbformat": 4,
 "nbformat_minor": 2
}
