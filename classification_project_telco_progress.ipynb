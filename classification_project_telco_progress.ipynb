{
 "cells": [
  {
   "cell_type": "code",
   "execution_count": 52,
   "metadata": {},
   "outputs": [],
   "source": [
    "import pandas as pd\n",
    "import numpy as np\n",
    "import matplotlib.pyplot as plt\n",
    "import seaborn as sns\n",
    "from pydataset import data\n",
    "from sklearn.model_selection import train_test_split\n",
    "from sklearn.impute import SimpleImputer\n",
    "import scipy.stats as stats\n",
    "from sklearn.ensemble import RandomForestClassifier\n",
    "from sklearn.tree import export_graphviz\n",
    "from sklearn.metrics import classification_report\n",
    "from sklearn.metrics import confusion_matrix\n",
    "\n",
    "import warnings\n",
    "warnings.filterwarnings(\"ignore\")\n",
    "\n",
    "\n",
    "import acquire\n",
    "import telco_prep\n",
    "import exploration"
   ]
  },
  {
   "cell_type": "code",
   "execution_count": 47,
   "metadata": {},
   "outputs": [
    {
     "data": {
      "text/html": [
       "<div>\n",
       "<style scoped>\n",
       "    .dataframe tbody tr th:only-of-type {\n",
       "        vertical-align: middle;\n",
       "    }\n",
       "\n",
       "    .dataframe tbody tr th {\n",
       "        vertical-align: top;\n",
       "    }\n",
       "\n",
       "    .dataframe thead th {\n",
       "        text-align: right;\n",
       "    }\n",
       "</style>\n",
       "<table border=\"1\" class=\"dataframe\">\n",
       "  <thead>\n",
       "    <tr style=\"text-align: right;\">\n",
       "      <th></th>\n",
       "      <th>Unnamed: 0</th>\n",
       "      <th>internet_service_type_id</th>\n",
       "      <th>payment_type_id</th>\n",
       "      <th>contract_type_id</th>\n",
       "      <th>customer_id</th>\n",
       "      <th>gender</th>\n",
       "      <th>senior_citizen</th>\n",
       "      <th>partner</th>\n",
       "      <th>dependents</th>\n",
       "      <th>tenure</th>\n",
       "      <th>...</th>\n",
       "      <th>tech_support</th>\n",
       "      <th>streaming_tv</th>\n",
       "      <th>streaming_movies</th>\n",
       "      <th>paperless_billing</th>\n",
       "      <th>monthly_charges</th>\n",
       "      <th>total_charges</th>\n",
       "      <th>churn</th>\n",
       "      <th>contract_type</th>\n",
       "      <th>payment_type</th>\n",
       "      <th>internet_service_type</th>\n",
       "    </tr>\n",
       "  </thead>\n",
       "  <tbody>\n",
       "    <tr>\n",
       "      <th>0</th>\n",
       "      <td>0</td>\n",
       "      <td>1</td>\n",
       "      <td>2</td>\n",
       "      <td>2</td>\n",
       "      <td>0002-ORFBO</td>\n",
       "      <td>Female</td>\n",
       "      <td>0</td>\n",
       "      <td>Yes</td>\n",
       "      <td>Yes</td>\n",
       "      <td>9</td>\n",
       "      <td>...</td>\n",
       "      <td>Yes</td>\n",
       "      <td>Yes</td>\n",
       "      <td>No</td>\n",
       "      <td>Yes</td>\n",
       "      <td>65.6</td>\n",
       "      <td>593.3</td>\n",
       "      <td>No</td>\n",
       "      <td>One year</td>\n",
       "      <td>Mailed check</td>\n",
       "      <td>DSL</td>\n",
       "    </tr>\n",
       "    <tr>\n",
       "      <th>1</th>\n",
       "      <td>1</td>\n",
       "      <td>1</td>\n",
       "      <td>2</td>\n",
       "      <td>1</td>\n",
       "      <td>0003-MKNFE</td>\n",
       "      <td>Male</td>\n",
       "      <td>0</td>\n",
       "      <td>No</td>\n",
       "      <td>No</td>\n",
       "      <td>9</td>\n",
       "      <td>...</td>\n",
       "      <td>No</td>\n",
       "      <td>No</td>\n",
       "      <td>Yes</td>\n",
       "      <td>No</td>\n",
       "      <td>59.9</td>\n",
       "      <td>542.4</td>\n",
       "      <td>No</td>\n",
       "      <td>Month-to-month</td>\n",
       "      <td>Mailed check</td>\n",
       "      <td>DSL</td>\n",
       "    </tr>\n",
       "    <tr>\n",
       "      <th>2</th>\n",
       "      <td>2</td>\n",
       "      <td>2</td>\n",
       "      <td>1</td>\n",
       "      <td>1</td>\n",
       "      <td>0004-TLHLJ</td>\n",
       "      <td>Male</td>\n",
       "      <td>0</td>\n",
       "      <td>No</td>\n",
       "      <td>No</td>\n",
       "      <td>4</td>\n",
       "      <td>...</td>\n",
       "      <td>No</td>\n",
       "      <td>No</td>\n",
       "      <td>No</td>\n",
       "      <td>Yes</td>\n",
       "      <td>73.9</td>\n",
       "      <td>280.85</td>\n",
       "      <td>Yes</td>\n",
       "      <td>Month-to-month</td>\n",
       "      <td>Electronic check</td>\n",
       "      <td>Fiber optic</td>\n",
       "    </tr>\n",
       "    <tr>\n",
       "      <th>3</th>\n",
       "      <td>3</td>\n",
       "      <td>2</td>\n",
       "      <td>1</td>\n",
       "      <td>1</td>\n",
       "      <td>0011-IGKFF</td>\n",
       "      <td>Male</td>\n",
       "      <td>1</td>\n",
       "      <td>Yes</td>\n",
       "      <td>No</td>\n",
       "      <td>13</td>\n",
       "      <td>...</td>\n",
       "      <td>No</td>\n",
       "      <td>Yes</td>\n",
       "      <td>Yes</td>\n",
       "      <td>Yes</td>\n",
       "      <td>98.0</td>\n",
       "      <td>1237.85</td>\n",
       "      <td>Yes</td>\n",
       "      <td>Month-to-month</td>\n",
       "      <td>Electronic check</td>\n",
       "      <td>Fiber optic</td>\n",
       "    </tr>\n",
       "    <tr>\n",
       "      <th>4</th>\n",
       "      <td>4</td>\n",
       "      <td>2</td>\n",
       "      <td>2</td>\n",
       "      <td>1</td>\n",
       "      <td>0013-EXCHZ</td>\n",
       "      <td>Female</td>\n",
       "      <td>1</td>\n",
       "      <td>Yes</td>\n",
       "      <td>No</td>\n",
       "      <td>3</td>\n",
       "      <td>...</td>\n",
       "      <td>Yes</td>\n",
       "      <td>Yes</td>\n",
       "      <td>No</td>\n",
       "      <td>Yes</td>\n",
       "      <td>83.9</td>\n",
       "      <td>267.4</td>\n",
       "      <td>Yes</td>\n",
       "      <td>Month-to-month</td>\n",
       "      <td>Mailed check</td>\n",
       "      <td>Fiber optic</td>\n",
       "    </tr>\n",
       "  </tbody>\n",
       "</table>\n",
       "<p>5 rows × 25 columns</p>\n",
       "</div>"
      ],
      "text/plain": [
       "   Unnamed: 0  internet_service_type_id  payment_type_id  contract_type_id  \\\n",
       "0           0                         1                2                 2   \n",
       "1           1                         1                2                 1   \n",
       "2           2                         2                1                 1   \n",
       "3           3                         2                1                 1   \n",
       "4           4                         2                2                 1   \n",
       "\n",
       "  customer_id  gender  senior_citizen partner dependents  tenure  ...  \\\n",
       "0  0002-ORFBO  Female               0     Yes        Yes       9  ...   \n",
       "1  0003-MKNFE    Male               0      No         No       9  ...   \n",
       "2  0004-TLHLJ    Male               0      No         No       4  ...   \n",
       "3  0011-IGKFF    Male               1     Yes         No      13  ...   \n",
       "4  0013-EXCHZ  Female               1     Yes         No       3  ...   \n",
       "\n",
       "  tech_support streaming_tv streaming_movies paperless_billing  \\\n",
       "0          Yes          Yes               No               Yes   \n",
       "1           No           No              Yes                No   \n",
       "2           No           No               No               Yes   \n",
       "3           No          Yes              Yes               Yes   \n",
       "4          Yes          Yes               No               Yes   \n",
       "\n",
       "  monthly_charges total_charges churn   contract_type      payment_type  \\\n",
       "0            65.6         593.3    No        One year      Mailed check   \n",
       "1            59.9         542.4    No  Month-to-month      Mailed check   \n",
       "2            73.9        280.85   Yes  Month-to-month  Electronic check   \n",
       "3            98.0       1237.85   Yes  Month-to-month  Electronic check   \n",
       "4            83.9         267.4   Yes  Month-to-month      Mailed check   \n",
       "\n",
       "   internet_service_type  \n",
       "0                    DSL  \n",
       "1                    DSL  \n",
       "2            Fiber optic  \n",
       "3            Fiber optic  \n",
       "4            Fiber optic  \n",
       "\n",
       "[5 rows x 25 columns]"
      ]
     },
     "execution_count": 47,
     "metadata": {},
     "output_type": "execute_result"
    }
   ],
   "source": [
    "telco_df = acquire.get_telco_data()\n",
    "\n",
    "telco_df.head()"
   ]
  },
  {
   "cell_type": "markdown",
   "metadata": {},
   "source": [
    "- Ran acquire function from SQL selecting all rows and columns\n",
    "- Majority of the columns are categorical and have ability to be encoded "
   ]
  },
  {
   "cell_type": "code",
   "execution_count": 3,
   "metadata": {},
   "outputs": [
    {
     "name": "stdout",
     "output_type": "stream",
     "text": [
      "<class 'pandas.core.frame.DataFrame'>\n",
      "RangeIndex: 7043 entries, 0 to 7042\n",
      "Data columns (total 25 columns):\n",
      " #   Column                    Non-Null Count  Dtype  \n",
      "---  ------                    --------------  -----  \n",
      " 0   Unnamed: 0                7043 non-null   int64  \n",
      " 1   internet_service_type_id  7043 non-null   int64  \n",
      " 2   payment_type_id           7043 non-null   int64  \n",
      " 3   contract_type_id          7043 non-null   int64  \n",
      " 4   customer_id               7043 non-null   object \n",
      " 5   gender                    7043 non-null   object \n",
      " 6   senior_citizen            7043 non-null   int64  \n",
      " 7   partner                   7043 non-null   object \n",
      " 8   dependents                7043 non-null   object \n",
      " 9   tenure                    7043 non-null   int64  \n",
      " 10  phone_service             7043 non-null   object \n",
      " 11  multiple_lines            7043 non-null   object \n",
      " 12  online_security           7043 non-null   object \n",
      " 13  online_backup             7043 non-null   object \n",
      " 14  device_protection         7043 non-null   object \n",
      " 15  tech_support              7043 non-null   object \n",
      " 16  streaming_tv              7043 non-null   object \n",
      " 17  streaming_movies          7043 non-null   object \n",
      " 18  paperless_billing         7043 non-null   object \n",
      " 19  monthly_charges           7043 non-null   float64\n",
      " 20  total_charges             7043 non-null   object \n",
      " 21  churn                     7043 non-null   object \n",
      " 22  contract_type             7043 non-null   object \n",
      " 23  payment_type              7043 non-null   object \n",
      " 24  internet_service_type     7043 non-null   object \n",
      "dtypes: float64(1), int64(6), object(18)\n",
      "memory usage: 1.3+ MB\n"
     ]
    }
   ],
   "source": [
    "telco_df.isna().sum()\n",
    "\n",
    "telco_df.info()"
   ]
  },
  {
   "cell_type": "markdown",
   "metadata": {},
   "source": [
    "-- No nulls to fill\n",
    "-- Total charges is an object which needs to change into float "
   ]
  },
  {
   "cell_type": "code",
   "execution_count": 4,
   "metadata": {},
   "outputs": [
    {
     "data": {
      "text/plain": [
       "Index(['gender', 'senior_citizen', 'partner', 'dependents', 'tenure',\n",
       "       'phone_service', 'multiple_lines', 'online_security', 'online_backup',\n",
       "       'device_protection', 'tech_support', 'streaming_tv', 'streaming_movies',\n",
       "       'paperless_billing', 'monthly_charges', 'total_charges', 'churn',\n",
       "       'contract_type', 'payment_type', 'internet_service_type', 'manual_pay',\n",
       "       'manual_encoded', 'gender_encoded', 'partner_encoded',\n",
       "       'dependents_encoded', 'phone_service_encoded',\n",
       "       'paperless_billing_encoded', 'churn_encoded',\n",
       "       'multiple_lines_No phone service', 'multiple_lines_Yes',\n",
       "       'online_security_No internet service', 'online_security_Yes',\n",
       "       'online_backup_No internet service', 'online_backup_Yes',\n",
       "       'device_protection_No internet service', 'device_protection_Yes',\n",
       "       'tech_support_No internet service', 'tech_support_Yes',\n",
       "       'streaming_tv_No internet service', 'streaming_tv_Yes',\n",
       "       'streaming_movies_No internet service', 'streaming_movies_Yes',\n",
       "       'contract_type_One year', 'contract_type_Two year',\n",
       "       'internet_service_type_Fiber optic', 'internet_service_type_None',\n",
       "       'payment_type_Credit card (automatic)', 'payment_type_Electronic check',\n",
       "       'payment_type_Mailed check', 'Bundled', 'streaming_bundle',\n",
       "       'security_bundle', 'streaming_dsl', 'streaming_fiber',\n",
       "       'security_suite_dsl', 'security_suite_fiber', 'monthly_charge_groups',\n",
       "       'total_charge_groups', 'streaming_one', 'streaming_two', 'security_one',\n",
       "       'security_two', 'security_monthly', 'streaming_monthly',\n",
       "       'bundled_monthly', 'bundled_one', 'bundled_two', 'only_dsl',\n",
       "       'only_fiber'],\n",
       "      dtype='object')"
      ]
     },
     "execution_count": 4,
     "metadata": {},
     "output_type": "execute_result"
    }
   ],
   "source": [
    "telco_df = telco_prep.prep_telco_data(telco_df)\n",
    "\n",
    "telco_df.columns"
   ]
  },
  {
   "cell_type": "code",
   "execution_count": 5,
   "metadata": {},
   "outputs": [],
   "source": [
    "telco_train, telco_validate, telco_test = telco_prep.split_telco(telco_df)"
   ]
  },
  {
   "cell_type": "code",
   "execution_count": 6,
   "metadata": {},
   "outputs": [
    {
     "data": {
      "text/html": [
       "<div>\n",
       "<style scoped>\n",
       "    .dataframe tbody tr th:only-of-type {\n",
       "        vertical-align: middle;\n",
       "    }\n",
       "\n",
       "    .dataframe tbody tr th {\n",
       "        vertical-align: top;\n",
       "    }\n",
       "\n",
       "    .dataframe thead th {\n",
       "        text-align: right;\n",
       "    }\n",
       "</style>\n",
       "<table border=\"1\" class=\"dataframe\">\n",
       "  <thead>\n",
       "    <tr style=\"text-align: right;\">\n",
       "      <th></th>\n",
       "      <th>gender</th>\n",
       "      <th>senior_citizen</th>\n",
       "      <th>partner</th>\n",
       "      <th>dependents</th>\n",
       "      <th>tenure</th>\n",
       "      <th>phone_service</th>\n",
       "      <th>multiple_lines</th>\n",
       "      <th>online_security</th>\n",
       "      <th>online_backup</th>\n",
       "      <th>device_protection</th>\n",
       "      <th>...</th>\n",
       "      <th>streaming_two</th>\n",
       "      <th>security_one</th>\n",
       "      <th>security_two</th>\n",
       "      <th>security_monthly</th>\n",
       "      <th>streaming_monthly</th>\n",
       "      <th>bundled_monthly</th>\n",
       "      <th>bundled_one</th>\n",
       "      <th>bundled_two</th>\n",
       "      <th>only_dsl</th>\n",
       "      <th>only_fiber</th>\n",
       "    </tr>\n",
       "  </thead>\n",
       "  <tbody>\n",
       "    <tr>\n",
       "      <th>4216</th>\n",
       "      <td>Male</td>\n",
       "      <td>0</td>\n",
       "      <td>No</td>\n",
       "      <td>No</td>\n",
       "      <td>18</td>\n",
       "      <td>Yes</td>\n",
       "      <td>Yes</td>\n",
       "      <td>No</td>\n",
       "      <td>No</td>\n",
       "      <td>No</td>\n",
       "      <td>...</td>\n",
       "      <td>1</td>\n",
       "      <td>0</td>\n",
       "      <td>0</td>\n",
       "      <td>0</td>\n",
       "      <td>1</td>\n",
       "      <td>1</td>\n",
       "      <td>1</td>\n",
       "      <td>1</td>\n",
       "      <td>0</td>\n",
       "      <td>0</td>\n",
       "    </tr>\n",
       "    <tr>\n",
       "      <th>1477</th>\n",
       "      <td>Female</td>\n",
       "      <td>1</td>\n",
       "      <td>No</td>\n",
       "      <td>No</td>\n",
       "      <td>29</td>\n",
       "      <td>Yes</td>\n",
       "      <td>Yes</td>\n",
       "      <td>Yes</td>\n",
       "      <td>Yes</td>\n",
       "      <td>No</td>\n",
       "      <td>...</td>\n",
       "      <td>0</td>\n",
       "      <td>1</td>\n",
       "      <td>1</td>\n",
       "      <td>1</td>\n",
       "      <td>0</td>\n",
       "      <td>1</td>\n",
       "      <td>0</td>\n",
       "      <td>0</td>\n",
       "      <td>0</td>\n",
       "      <td>0</td>\n",
       "    </tr>\n",
       "    <tr>\n",
       "      <th>5752</th>\n",
       "      <td>Male</td>\n",
       "      <td>0</td>\n",
       "      <td>No</td>\n",
       "      <td>No</td>\n",
       "      <td>72</td>\n",
       "      <td>Yes</td>\n",
       "      <td>Yes</td>\n",
       "      <td>No internet service</td>\n",
       "      <td>No internet service</td>\n",
       "      <td>No internet service</td>\n",
       "      <td>...</td>\n",
       "      <td>0</td>\n",
       "      <td>0</td>\n",
       "      <td>0</td>\n",
       "      <td>0</td>\n",
       "      <td>0</td>\n",
       "      <td>0</td>\n",
       "      <td>0</td>\n",
       "      <td>0</td>\n",
       "      <td>0</td>\n",
       "      <td>0</td>\n",
       "    </tr>\n",
       "    <tr>\n",
       "      <th>1377</th>\n",
       "      <td>Male</td>\n",
       "      <td>0</td>\n",
       "      <td>Yes</td>\n",
       "      <td>Yes</td>\n",
       "      <td>65</td>\n",
       "      <td>Yes</td>\n",
       "      <td>Yes</td>\n",
       "      <td>No</td>\n",
       "      <td>Yes</td>\n",
       "      <td>Yes</td>\n",
       "      <td>...</td>\n",
       "      <td>1</td>\n",
       "      <td>1</td>\n",
       "      <td>1</td>\n",
       "      <td>1</td>\n",
       "      <td>1</td>\n",
       "      <td>0</td>\n",
       "      <td>0</td>\n",
       "      <td>1</td>\n",
       "      <td>0</td>\n",
       "      <td>0</td>\n",
       "    </tr>\n",
       "    <tr>\n",
       "      <th>3965</th>\n",
       "      <td>Female</td>\n",
       "      <td>0</td>\n",
       "      <td>Yes</td>\n",
       "      <td>Yes</td>\n",
       "      <td>58</td>\n",
       "      <td>Yes</td>\n",
       "      <td>No</td>\n",
       "      <td>Yes</td>\n",
       "      <td>Yes</td>\n",
       "      <td>No</td>\n",
       "      <td>...</td>\n",
       "      <td>1</td>\n",
       "      <td>1</td>\n",
       "      <td>1</td>\n",
       "      <td>1</td>\n",
       "      <td>1</td>\n",
       "      <td>1</td>\n",
       "      <td>1</td>\n",
       "      <td>1</td>\n",
       "      <td>0</td>\n",
       "      <td>0</td>\n",
       "    </tr>\n",
       "  </tbody>\n",
       "</table>\n",
       "<p>5 rows × 69 columns</p>\n",
       "</div>"
      ],
      "text/plain": [
       "      gender  senior_citizen partner dependents  tenure phone_service  \\\n",
       "4216    Male               0      No         No      18           Yes   \n",
       "1477  Female               1      No         No      29           Yes   \n",
       "5752    Male               0      No         No      72           Yes   \n",
       "1377    Male               0     Yes        Yes      65           Yes   \n",
       "3965  Female               0     Yes        Yes      58           Yes   \n",
       "\n",
       "     multiple_lines      online_security        online_backup  \\\n",
       "4216            Yes                   No                   No   \n",
       "1477            Yes                  Yes                  Yes   \n",
       "5752            Yes  No internet service  No internet service   \n",
       "1377            Yes                   No                  Yes   \n",
       "3965             No                  Yes                  Yes   \n",
       "\n",
       "        device_protection  ... streaming_two security_one security_two  \\\n",
       "4216                   No  ...             1            0            0   \n",
       "1477                   No  ...             0            1            1   \n",
       "5752  No internet service  ...             0            0            0   \n",
       "1377                  Yes  ...             1            1            1   \n",
       "3965                   No  ...             1            1            1   \n",
       "\n",
       "     security_monthly  streaming_monthly  bundled_monthly bundled_one  \\\n",
       "4216                0                  1                1           1   \n",
       "1477                1                  0                1           0   \n",
       "5752                0                  0                0           0   \n",
       "1377                1                  1                0           0   \n",
       "3965                1                  1                1           1   \n",
       "\n",
       "     bundled_two only_dsl only_fiber  \n",
       "4216           1        0          0  \n",
       "1477           0        0          0  \n",
       "5752           0        0          0  \n",
       "1377           1        0          0  \n",
       "3965           1        0          0  \n",
       "\n",
       "[5 rows x 69 columns]"
      ]
     },
     "execution_count": 6,
     "metadata": {},
     "output_type": "execute_result"
    }
   ],
   "source": [
    "telco_train.head()"
   ]
  },
  {
   "cell_type": "code",
   "execution_count": 7,
   "metadata": {},
   "outputs": [
    {
     "data": {
      "text/plain": [
       "((4500, 69), (1125, 69), (1407, 69))"
      ]
     },
     "execution_count": 7,
     "metadata": {},
     "output_type": "execute_result"
    }
   ],
   "source": [
    "telco_train.shape, telco_validate.shape, telco_test.shape"
   ]
  },
  {
   "cell_type": "code",
   "execution_count": 8,
   "metadata": {},
   "outputs": [
    {
     "data": {
      "text/plain": [
       "0.7342222222222222"
      ]
     },
     "execution_count": 8,
     "metadata": {},
     "output_type": "execute_result"
    }
   ],
   "source": [
    "# In this section, I am looking to find the overall churn baseline so I can compare my models to the baseline\n",
    "telco_train.churn.value_counts()\n",
    "\n",
    "churn_baseline = 1196/4500\n",
    "\n",
    "churn_baseline2 = 3304/4500\n",
    "\n",
    "churn_baseline\n",
    "\n",
    "churn_baseline2\n",
    "\n",
    "# Using churn - yes the baseline is 27% and using churn - no the baseline 73%\n"
   ]
  },
  {
   "cell_type": "code",
   "execution_count": 9,
   "metadata": {},
   "outputs": [
    {
     "data": {
      "text/plain": [
       "Index(['gender', 'senior_citizen', 'partner', 'dependents', 'tenure',\n",
       "       'phone_service', 'multiple_lines', 'online_security', 'online_backup',\n",
       "       'device_protection', 'tech_support', 'streaming_tv', 'streaming_movies',\n",
       "       'paperless_billing', 'monthly_charges', 'total_charges', 'churn',\n",
       "       'contract_type', 'payment_type', 'internet_service_type', 'manual_pay',\n",
       "       'manual_encoded', 'gender_encoded', 'partner_encoded',\n",
       "       'dependents_encoded', 'phone_service_encoded',\n",
       "       'paperless_billing_encoded', 'churn_encoded',\n",
       "       'multiple_lines_No phone service', 'multiple_lines_Yes',\n",
       "       'online_security_No internet service', 'online_security_Yes',\n",
       "       'online_backup_No internet service', 'online_backup_Yes',\n",
       "       'device_protection_No internet service', 'device_protection_Yes',\n",
       "       'tech_support_No internet service', 'tech_support_Yes',\n",
       "       'streaming_tv_No internet service', 'streaming_tv_Yes',\n",
       "       'streaming_movies_No internet service', 'streaming_movies_Yes',\n",
       "       'contract_type_One year', 'contract_type_Two year',\n",
       "       'internet_service_type_Fiber optic', 'internet_service_type_None',\n",
       "       'payment_type_Credit card (automatic)', 'payment_type_Electronic check',\n",
       "       'payment_type_Mailed check', 'Bundled', 'streaming_bundle',\n",
       "       'security_bundle', 'streaming_dsl', 'streaming_fiber',\n",
       "       'security_suite_dsl', 'security_suite_fiber', 'monthly_charge_groups',\n",
       "       'total_charge_groups', 'streaming_one', 'streaming_two', 'security_one',\n",
       "       'security_two', 'security_monthly', 'streaming_monthly',\n",
       "       'bundled_monthly', 'bundled_one', 'bundled_two', 'only_dsl',\n",
       "       'only_fiber'],\n",
       "      dtype='object')"
      ]
     },
     "execution_count": 9,
     "metadata": {},
     "output_type": "execute_result"
    }
   ],
   "source": [
    "telco_train.columns"
   ]
  },
  {
   "cell_type": "code",
   "execution_count": 10,
   "metadata": {},
   "outputs": [
    {
     "data": {
      "text/plain": [
       "(1    2273\n",
       " 0    2227\n",
       " Name: security_suite_dsl, dtype: int64,\n",
       " 1    2284\n",
       " 0    2216\n",
       " Name: security_suite_fiber, dtype: int64,\n",
       " 0    2528\n",
       " 1    1972\n",
       " Name: internet_service_type_Fiber optic, dtype: int64)"
      ]
     },
     "execution_count": 10,
     "metadata": {},
     "output_type": "execute_result"
    }
   ],
   "source": [
    "telco_train.security_suite_dsl.value_counts(), telco_train.security_suite_fiber.value_counts(),telco_train['internet_service_type_Fiber optic'].value_counts()\n",
    "\n"
   ]
  },
  {
   "cell_type": "code",
   "execution_count": 11,
   "metadata": {},
   "outputs": [
    {
     "data": {
      "image/png": "[encoded data removed]",
      "text/plain": [
       "<Figure size 432x288 with 1 Axes>"
      ]
     },
     "metadata": {
      "needs_background": "light"
     },
     "output_type": "display_data"
    },
    {
     "data": {
      "image/png": "[encoded data removed]",
      "text/plain": [
       "<Figure size 432x288 with 1 Axes>"
      ]
     },
     "metadata": {
      "needs_background": "light"
     },
     "output_type": "display_data"
    },
    {
     "data": {
      "image/png": "[encoded data removed]",
      "text/plain": [
       "<Figure size 432x288 with 1 Axes>"
      ]
     },
     "metadata": {
      "needs_background": "light"
     },
     "output_type": "display_data"
    },
    {
     "data": {
      "image/png": "[encoded data removed]",
      "text/plain": [
       "<Figure size 432x288 with 1 Axes>"
      ]
     },
     "metadata": {
      "needs_background": "light"
     },
     "output_type": "display_data"
    },
    {
     "data": {
      "image/png": "[encoded data removed]",
      "text/plain": [
       "<Figure size 432x288 with 1 Axes>"
      ]
     },
     "metadata": {
      "needs_background": "light"
     },
     "output_type": "display_data"
    },
    {
     "data": {
      "image/png": "[encoded data removed]",
      "text/plain": [
       "<Figure size 432x288 with 1 Axes>"
      ]
     },
     "metadata": {
      "needs_background": "light"
     },
     "output_type": "display_data"
    },
    {
     "data": {
      "image/png": "[encoded data removed]",
      "text/plain": [
       "<Figure size 432x288 with 1 Axes>"
      ]
     },
     "metadata": {
      "needs_background": "light"
     },
     "output_type": "display_data"
    },
    {
     "data": {
      "image/png": "[encoded data removed]",
      "text/plain": [
       "<Figure size 432x288 with 1 Axes>"
      ]
     },
     "metadata": {
      "needs_background": "light"
     },
     "output_type": "display_data"
    },
    {
     "data": {
      "image/png": "[encoded data removed]",
      "text/plain": [
       "<Figure size 432x288 with 1 Axes>"
      ]
     },
     "metadata": {
      "needs_background": "light"
     },
     "output_type": "display_data"
    },
    {
     "data": {
      "image/png": "[encoded data removed]",
      "text/plain": [
       "<Figure size 432x288 with 1 Axes>"
      ]
     },
     "metadata": {
      "needs_background": "light"
     },
     "output_type": "display_data"
    },
    {
     "data": {
      "image/png": "[encoded data removed]",
      "text/plain": [
       "<Figure size 432x288 with 1 Axes>"
      ]
     },
     "metadata": {
      "needs_background": "light"
     },
     "output_type": "display_data"
    },
    {
     "data": {
      "image/png": "[encoded data removed]",
      "text/plain": [
       "<Figure size 432x288 with 1 Axes>"
      ]
     },
     "metadata": {
      "needs_background": "light"
     },
     "output_type": "display_data"
    },
    {
     "data": {
      "image/png": "[encoded data removed]",
      "text/plain": [
       "<Figure size 432x288 with 1 Axes>"
      ]
     },
     "metadata": {
      "needs_background": "light"
     },
     "output_type": "display_data"
    },
    {
     "data": {
      "image/png": "[encoded data removed]",
      "text/plain": [
       "<Figure size 432x288 with 1 Axes>"
      ]
     },
     "metadata": {
      "needs_background": "light"
     },
     "output_type": "display_data"
    },
    {
     "data": {
      "image/png": "[encoded data removed]",
      "text/plain": [
       "<Figure size 432x288 with 1 Axes>"
      ]
     },
     "metadata": {
      "needs_background": "light"
     },
     "output_type": "display_data"
    },
    {
     "data": {
      "image/png": "[encoded data removed]",
      "text/plain": [
       "<Figure size 432x288 with 1 Axes>"
      ]
     },
     "metadata": {
      "needs_background": "light"
     },
     "output_type": "display_data"
    },
    {
     "data": {
      "image/png": "[encoded data removed]",
      "text/plain": [
       "<Figure size 432x288 with 1 Axes>"
      ]
     },
     "metadata": {
      "needs_background": "light"
     },
     "output_type": "display_data"
    },
    {
     "data": {
      "image/png": "[encoded data removed]",
      "text/plain": [
       "<Figure size 432x288 with 1 Axes>"
      ]
     },
     "metadata": {
      "needs_background": "light"
     },
     "output_type": "display_data"
    },
    {
     "data": {
      "image/png": "[encoded data removed]",
      "text/plain": [
       "<Figure size 432x288 with 1 Axes>"
      ]
     },
     "metadata": {
      "needs_background": "light"
     },
     "output_type": "display_data"
    },
    {
     "data": {
      "image/png": "[encoded data removed]",
      "text/plain": [
       "<Figure size 432x288 with 1 Axes>"
      ]
     },
     "metadata": {
      "needs_background": "light"
     },
     "output_type": "display_data"
    },
    {
     "data": {
      "image/png": "[encoded data removed]",
      "text/plain": [
       "<Figure size 432x288 with 1 Axes>"
      ]
     },
     "metadata": {
      "needs_background": "light"
     },
     "output_type": "display_data"
    },
    {
     "data": {
      "image/png": "[encoded data removed]",
      "text/plain": [
       "<Figure size 432x288 with 1 Axes>"
      ]
     },
     "metadata": {
      "needs_background": "light"
     },
     "output_type": "display_data"
    },
    {
     "data": {
      "image/png": "[encoded data removed]",
      "text/plain": [
       "<Figure size 432x288 with 1 Axes>"
      ]
     },
     "metadata": {
      "needs_background": "light"
     },
     "output_type": "display_data"
    },
    {
     "data": {
      "image/png": "[encoded data removed]",
      "text/plain": [
       "<Figure size 432x288 with 1 Axes>"
      ]
     },
     "metadata": {
      "needs_background": "light"
     },
     "output_type": "display_data"
    },
    {
     "data": {
      "image/png": "[encoded data removed]",
      "text/plain": [
       "<Figure size 432x288 with 1 Axes>"
      ]
     },
     "metadata": {
      "needs_background": "light"
     },
     "output_type": "display_data"
    },
    {
     "data": {
      "image/png": "[encoded data removed]",
      "text/plain": [
       "<Figure size 432x288 with 1 Axes>"
      ]
     },
     "metadata": {
      "needs_background": "light"
     },
     "output_type": "display_data"
    },
    {
     "data": {
      "image/png": "[encoded data removed]",
      "text/plain": [
       "<Figure size 432x288 with 1 Axes>"
      ]
     },
     "metadata": {
      "needs_background": "light"
     },
     "output_type": "display_data"
    },
    {
     "data": {
      "image/png": "[encoded data removed]",
      "text/plain": [
       "<Figure size 432x288 with 1 Axes>"
      ]
     },
     "metadata": {
      "needs_background": "light"
     },
     "output_type": "display_data"
    },
    {
     "data": {
      "image/png": "[encoded data removed]",
      "text/plain": [
       "<Figure size 432x288 with 1 Axes>"
      ]
     },
     "metadata": {
      "needs_background": "light"
     },
     "output_type": "display_data"
    }
   ],
   "source": [
    "num_cols = telco_train.columns[[(telco_train[col].dtype == 'int64') or (telco_train[col].dtype == 'float64') for col in telco_train.columns]]\n",
    "for col in num_cols:\n",
    "    plt.hist(telco_train[col])\n",
    "    plt.title(col)\n",
    "    plt.show()\n",
    "    # plt.boxplot(telco_train[col])\n",
    "    # plt.title(col)\n",
    "    # plt.show()"
   ]
  },
  {
   "cell_type": "markdown",
   "metadata": {},
   "source": [
    "Looking at the tenure graph I wanted to see contract type vs churn to see if there was any correlation with contract type and churn"
   ]
  },
  {
   "cell_type": "code",
   "execution_count": 45,
   "metadata": {},
   "outputs": [
    {
     "data": {
      "text/plain": [
       "<matplotlib.lines.Line2D at 0x15e154250>"
      ]
     },
     "execution_count": 45,
     "metadata": {},
     "output_type": "execute_result"
    },
    {
     "data": {
      "image/png": "[encoded data removed]",
      "text/plain": [
       "<Figure size 432x288 with 1 Axes>"
      ]
     },
     "metadata": {
      "needs_background": "light"
     },
     "output_type": "display_data"
    }
   ],
   "source": [
    "sns.barplot('contract_type', 'churn_encoded', data=telco_train)\n",
    "plt.axhline(telco_train.churn_encoded.mean(), ls = '--', color = 'black')"
   ]
  },
  {
   "cell_type": "markdown",
   "metadata": {},
   "source": [
    "Key Take aways -\n",
    "\t1. Senior citizens do not make up a significant portion of the data set\n",
    "\t2. Tenure shows that we are losing most of our customers in the first five months and slowly loses until month 40 where it starts to \t     creep back up\n",
    "\t3.  Aside from the initial spike in the 20-30 range it follows an almost  normal  distribution\n",
    "\t4. Total charges align with tenure with a swift drop from the beginning\n",
    "\t5. Manual encoded pay shows more people pay by check either electronic or mailed than automatic\n",
    "\t6. Gender and if customer has partner are equally split\n",
    "\t7. More people have no dependents\n",
    "\t8. Those with phone service far outweigh those without\n",
    "\t9. More people have paperless billing than not\n",
    "\t10. Churn encoded chart shows the baseline churn model\n",
    "\t11. More than triple the amount of people bundle their service with internet and phone\n",
    "\t12. About a 1000 more people include streaming services\n",
    "\t13. More than double the customers have security features \n",
    "\t14. Only a handful of cusotmers have only dsl and no phone service\n",
    "\t15. Everyone with fiber has a bundle with phone service\n",
    "\t16. Month to month contracts turn are signicantly higher rate"
   ]
  },
  {
   "cell_type": "code",
   "execution_count": 48,
   "metadata": {},
   "outputs": [
    {
     "name": "stdout",
     "output_type": "stream",
     "text": [
      "churn_encoded      0     1\n",
      "contract_type             \n",
      "Month-to-month  1433  1058\n",
      "One year         811   107\n",
      "Two year        1060    31\n",
      "We reject the null hypothesis and this variable is statistically significant\n"
     ]
    }
   ],
   "source": [
    "contract_stat = pd.crosstab(telco_train.contract_type, telco_train.churn_encoded)\n",
    "\n",
    "print(contract_stat)\n",
    "\n",
    "a = 0.05\n",
    "\n",
    "chi2, p, degf, expected = stats.chi2_contingency(contract_stat)\n",
    "\n",
    "chi2, p\n",
    "\n",
    "\n",
    "if p < a:\n",
    "    print(\"We reject the null hypothesis and this variable is statistically significant\")\n",
    "else:\n",
    "    print(\"We fail to reject the null hypothesis and this feature is not statisitcally significant\")"
   ]
  },
  {
   "cell_type": "code",
   "execution_count": 12,
   "metadata": {},
   "outputs": [
    {
     "data": {
      "text/html": [
       "<div>\n",
       "<style scoped>\n",
       "    .dataframe tbody tr th:only-of-type {\n",
       "        vertical-align: middle;\n",
       "    }\n",
       "\n",
       "    .dataframe tbody tr th {\n",
       "        vertical-align: top;\n",
       "    }\n",
       "\n",
       "    .dataframe thead th {\n",
       "        text-align: right;\n",
       "    }\n",
       "</style>\n",
       "<table border=\"1\" class=\"dataframe\">\n",
       "  <thead>\n",
       "    <tr style=\"text-align: right;\">\n",
       "      <th></th>\n",
       "      <th>senior_citizen</th>\n",
       "      <th>tenure</th>\n",
       "      <th>monthly_charges</th>\n",
       "      <th>total_charges</th>\n",
       "      <th>manual_encoded</th>\n",
       "      <th>gender_encoded</th>\n",
       "      <th>partner_encoded</th>\n",
       "      <th>dependents_encoded</th>\n",
       "      <th>phone_service_encoded</th>\n",
       "      <th>paperless_billing_encoded</th>\n",
       "      <th>...</th>\n",
       "      <th>streaming_two</th>\n",
       "      <th>security_one</th>\n",
       "      <th>security_two</th>\n",
       "      <th>security_monthly</th>\n",
       "      <th>streaming_monthly</th>\n",
       "      <th>bundled_monthly</th>\n",
       "      <th>bundled_one</th>\n",
       "      <th>bundled_two</th>\n",
       "      <th>only_dsl</th>\n",
       "      <th>only_fiber</th>\n",
       "    </tr>\n",
       "  </thead>\n",
       "  <tbody>\n",
       "    <tr>\n",
       "      <th>count</th>\n",
       "      <td>4500.000000</td>\n",
       "      <td>4500.000000</td>\n",
       "      <td>4500.000000</td>\n",
       "      <td>4500.000000</td>\n",
       "      <td>4500.000000</td>\n",
       "      <td>4500.000000</td>\n",
       "      <td>4500.000000</td>\n",
       "      <td>4500.000000</td>\n",
       "      <td>4500.000000</td>\n",
       "      <td>4500.000000</td>\n",
       "      <td>...</td>\n",
       "      <td>4500.000000</td>\n",
       "      <td>4500.000000</td>\n",
       "      <td>4500.000000</td>\n",
       "      <td>4500.000000</td>\n",
       "      <td>4500.000000</td>\n",
       "      <td>4500.000000</td>\n",
       "      <td>4500.000000</td>\n",
       "      <td>4500.000000</td>\n",
       "      <td>4500.000000</td>\n",
       "      <td>4500.0</td>\n",
       "    </tr>\n",
       "    <tr>\n",
       "      <th>mean</th>\n",
       "      <td>0.160667</td>\n",
       "      <td>32.472889</td>\n",
       "      <td>64.725044</td>\n",
       "      <td>2289.320233</td>\n",
       "      <td>0.562000</td>\n",
       "      <td>0.500000</td>\n",
       "      <td>0.483556</td>\n",
       "      <td>0.299333</td>\n",
       "      <td>0.904000</td>\n",
       "      <td>0.589778</td>\n",
       "      <td>...</td>\n",
       "      <td>0.402444</td>\n",
       "      <td>0.488000</td>\n",
       "      <td>0.483333</td>\n",
       "      <td>0.514889</td>\n",
       "      <td>0.456000</td>\n",
       "      <td>0.611556</td>\n",
       "      <td>0.515111</td>\n",
       "      <td>0.530222</td>\n",
       "      <td>0.096000</td>\n",
       "      <td>0.0</td>\n",
       "    </tr>\n",
       "    <tr>\n",
       "      <th>std</th>\n",
       "      <td>0.367264</td>\n",
       "      <td>24.654959</td>\n",
       "      <td>30.209952</td>\n",
       "      <td>2270.394730</td>\n",
       "      <td>0.496196</td>\n",
       "      <td>0.500056</td>\n",
       "      <td>0.499785</td>\n",
       "      <td>0.458017</td>\n",
       "      <td>0.294624</td>\n",
       "      <td>0.491929</td>\n",
       "      <td>...</td>\n",
       "      <td>0.490445</td>\n",
       "      <td>0.499912</td>\n",
       "      <td>0.499778</td>\n",
       "      <td>0.499834</td>\n",
       "      <td>0.498116</td>\n",
       "      <td>0.487451</td>\n",
       "      <td>0.499827</td>\n",
       "      <td>0.499141</td>\n",
       "      <td>0.294624</td>\n",
       "      <td>0.0</td>\n",
       "    </tr>\n",
       "    <tr>\n",
       "      <th>min</th>\n",
       "      <td>0.000000</td>\n",
       "      <td>1.000000</td>\n",
       "      <td>18.250000</td>\n",
       "      <td>18.850000</td>\n",
       "      <td>0.000000</td>\n",
       "      <td>0.000000</td>\n",
       "      <td>0.000000</td>\n",
       "      <td>0.000000</td>\n",
       "      <td>0.000000</td>\n",
       "      <td>0.000000</td>\n",
       "      <td>...</td>\n",
       "      <td>0.000000</td>\n",
       "      <td>0.000000</td>\n",
       "      <td>0.000000</td>\n",
       "      <td>0.000000</td>\n",
       "      <td>0.000000</td>\n",
       "      <td>0.000000</td>\n",
       "      <td>0.000000</td>\n",
       "      <td>0.000000</td>\n",
       "      <td>0.000000</td>\n",
       "      <td>0.0</td>\n",
       "    </tr>\n",
       "    <tr>\n",
       "      <th>25%</th>\n",
       "      <td>0.000000</td>\n",
       "      <td>8.000000</td>\n",
       "      <td>34.775000</td>\n",
       "      <td>385.075000</td>\n",
       "      <td>0.000000</td>\n",
       "      <td>0.000000</td>\n",
       "      <td>0.000000</td>\n",
       "      <td>0.000000</td>\n",
       "      <td>1.000000</td>\n",
       "      <td>0.000000</td>\n",
       "      <td>...</td>\n",
       "      <td>0.000000</td>\n",
       "      <td>0.000000</td>\n",
       "      <td>0.000000</td>\n",
       "      <td>0.000000</td>\n",
       "      <td>0.000000</td>\n",
       "      <td>0.000000</td>\n",
       "      <td>0.000000</td>\n",
       "      <td>0.000000</td>\n",
       "      <td>0.000000</td>\n",
       "      <td>0.0</td>\n",
       "    </tr>\n",
       "    <tr>\n",
       "      <th>50%</th>\n",
       "      <td>0.000000</td>\n",
       "      <td>29.000000</td>\n",
       "      <td>70.200000</td>\n",
       "      <td>1400.575000</td>\n",
       "      <td>1.000000</td>\n",
       "      <td>0.500000</td>\n",
       "      <td>0.000000</td>\n",
       "      <td>0.000000</td>\n",
       "      <td>1.000000</td>\n",
       "      <td>1.000000</td>\n",
       "      <td>...</td>\n",
       "      <td>0.000000</td>\n",
       "      <td>0.000000</td>\n",
       "      <td>0.000000</td>\n",
       "      <td>1.000000</td>\n",
       "      <td>0.000000</td>\n",
       "      <td>1.000000</td>\n",
       "      <td>1.000000</td>\n",
       "      <td>1.000000</td>\n",
       "      <td>0.000000</td>\n",
       "      <td>0.0</td>\n",
       "    </tr>\n",
       "    <tr>\n",
       "      <th>75%</th>\n",
       "      <td>0.000000</td>\n",
       "      <td>56.000000</td>\n",
       "      <td>90.050000</td>\n",
       "      <td>3845.675000</td>\n",
       "      <td>1.000000</td>\n",
       "      <td>1.000000</td>\n",
       "      <td>1.000000</td>\n",
       "      <td>1.000000</td>\n",
       "      <td>1.000000</td>\n",
       "      <td>1.000000</td>\n",
       "      <td>...</td>\n",
       "      <td>1.000000</td>\n",
       "      <td>1.000000</td>\n",
       "      <td>1.000000</td>\n",
       "      <td>1.000000</td>\n",
       "      <td>1.000000</td>\n",
       "      <td>1.000000</td>\n",
       "      <td>1.000000</td>\n",
       "      <td>1.000000</td>\n",
       "      <td>0.000000</td>\n",
       "      <td>0.0</td>\n",
       "    </tr>\n",
       "    <tr>\n",
       "      <th>max</th>\n",
       "      <td>1.000000</td>\n",
       "      <td>72.000000</td>\n",
       "      <td>118.650000</td>\n",
       "      <td>8594.400000</td>\n",
       "      <td>1.000000</td>\n",
       "      <td>1.000000</td>\n",
       "      <td>1.000000</td>\n",
       "      <td>1.000000</td>\n",
       "      <td>1.000000</td>\n",
       "      <td>1.000000</td>\n",
       "      <td>...</td>\n",
       "      <td>1.000000</td>\n",
       "      <td>1.000000</td>\n",
       "      <td>1.000000</td>\n",
       "      <td>1.000000</td>\n",
       "      <td>1.000000</td>\n",
       "      <td>1.000000</td>\n",
       "      <td>1.000000</td>\n",
       "      <td>1.000000</td>\n",
       "      <td>1.000000</td>\n",
       "      <td>0.0</td>\n",
       "    </tr>\n",
       "  </tbody>\n",
       "</table>\n",
       "<p>8 rows × 50 columns</p>\n",
       "</div>"
      ],
      "text/plain": [
       "       senior_citizen       tenure  monthly_charges  total_charges  \\\n",
       "count     4500.000000  4500.000000      4500.000000    4500.000000   \n",
       "mean         0.160667    32.472889        64.725044    2289.320233   \n",
       "std          0.367264    24.654959        30.209952    2270.394730   \n",
       "min          0.000000     1.000000        18.250000      18.850000   \n",
       "25%          0.000000     8.000000        34.775000     385.075000   \n",
       "50%          0.000000    29.000000        70.200000    1400.575000   \n",
       "75%          0.000000    56.000000        90.050000    3845.675000   \n",
       "max          1.000000    72.000000       118.650000    8594.400000   \n",
       "\n",
       "       manual_encoded  gender_encoded  partner_encoded  dependents_encoded  \\\n",
       "count     4500.000000     4500.000000      4500.000000         4500.000000   \n",
       "mean         0.562000        0.500000         0.483556            0.299333   \n",
       "std          0.496196        0.500056         0.499785            0.458017   \n",
       "min          0.000000        0.000000         0.000000            0.000000   \n",
       "25%          0.000000        0.000000         0.000000            0.000000   \n",
       "50%          1.000000        0.500000         0.000000            0.000000   \n",
       "75%          1.000000        1.000000         1.000000            1.000000   \n",
       "max          1.000000        1.000000         1.000000            1.000000   \n",
       "\n",
       "       phone_service_encoded  paperless_billing_encoded  ...  streaming_two  \\\n",
       "count            4500.000000                4500.000000  ...    4500.000000   \n",
       "mean                0.904000                   0.589778  ...       0.402444   \n",
       "std                 0.294624                   0.491929  ...       0.490445   \n",
       "min                 0.000000                   0.000000  ...       0.000000   \n",
       "25%                 1.000000                   0.000000  ...       0.000000   \n",
       "50%                 1.000000                   1.000000  ...       0.000000   \n",
       "75%                 1.000000                   1.000000  ...       1.000000   \n",
       "max                 1.000000                   1.000000  ...       1.000000   \n",
       "\n",
       "       security_one  security_two  security_monthly  streaming_monthly  \\\n",
       "count   4500.000000   4500.000000       4500.000000        4500.000000   \n",
       "mean       0.488000      0.483333          0.514889           0.456000   \n",
       "std        0.499912      0.499778          0.499834           0.498116   \n",
       "min        0.000000      0.000000          0.000000           0.000000   \n",
       "25%        0.000000      0.000000          0.000000           0.000000   \n",
       "50%        0.000000      0.000000          1.000000           0.000000   \n",
       "75%        1.000000      1.000000          1.000000           1.000000   \n",
       "max        1.000000      1.000000          1.000000           1.000000   \n",
       "\n",
       "       bundled_monthly  bundled_one  bundled_two     only_dsl  only_fiber  \n",
       "count      4500.000000  4500.000000  4500.000000  4500.000000      4500.0  \n",
       "mean          0.611556     0.515111     0.530222     0.096000         0.0  \n",
       "std           0.487451     0.499827     0.499141     0.294624         0.0  \n",
       "min           0.000000     0.000000     0.000000     0.000000         0.0  \n",
       "25%           0.000000     0.000000     0.000000     0.000000         0.0  \n",
       "50%           1.000000     1.000000     1.000000     0.000000         0.0  \n",
       "75%           1.000000     1.000000     1.000000     0.000000         0.0  \n",
       "max           1.000000     1.000000     1.000000     1.000000         0.0  \n",
       "\n",
       "[8 rows x 50 columns]"
      ]
     },
     "execution_count": 12,
     "metadata": {},
     "output_type": "execute_result"
    }
   ],
   "source": [
    "telco_train.describe()"
   ]
  },
  {
   "cell_type": "code",
   "execution_count": 14,
   "metadata": {},
   "outputs": [
    {
     "name": "stdout",
     "output_type": "stream",
     "text": [
      "<class 'pandas.core.frame.DataFrame'>\n",
      "Int64Index: 4500 entries, 4216 to 3374\n",
      "Data columns (total 69 columns):\n",
      " #   Column                                 Non-Null Count  Dtype   \n",
      "---  ------                                 --------------  -----   \n",
      " 0   gender                                 4500 non-null   object  \n",
      " 1   senior_citizen                         4500 non-null   int64   \n",
      " 2   partner                                4500 non-null   object  \n",
      " 3   dependents                             4500 non-null   object  \n",
      " 4   tenure                                 4500 non-null   int64   \n",
      " 5   phone_service                          4500 non-null   object  \n",
      " 6   multiple_lines                         4500 non-null   object  \n",
      " 7   online_security                        4500 non-null   object  \n",
      " 8   online_backup                          4500 non-null   object  \n",
      " 9   device_protection                      4500 non-null   object  \n",
      " 10  tech_support                           4500 non-null   object  \n",
      " 11  streaming_tv                           4500 non-null   object  \n",
      " 12  streaming_movies                       4500 non-null   object  \n",
      " 13  paperless_billing                      4500 non-null   object  \n",
      " 14  monthly_charges                        4500 non-null   float64 \n",
      " 15  total_charges                          4500 non-null   float64 \n",
      " 16  churn                                  4500 non-null   object  \n",
      " 17  contract_type                          4500 non-null   object  \n",
      " 18  payment_type                           4500 non-null   object  \n",
      " 19  internet_service_type                  4500 non-null   object  \n",
      " 20  manual_pay                             4500 non-null   bool    \n",
      " 21  manual_encoded                         4500 non-null   int64   \n",
      " 22  gender_encoded                         4500 non-null   int64   \n",
      " 23  partner_encoded                        4500 non-null   int64   \n",
      " 24  dependents_encoded                     4500 non-null   int64   \n",
      " 25  phone_service_encoded                  4500 non-null   int64   \n",
      " 26  paperless_billing_encoded              4500 non-null   int64   \n",
      " 27  churn_encoded                          4500 non-null   int64   \n",
      " 28  multiple_lines_No phone service        4500 non-null   uint8   \n",
      " 29  multiple_lines_Yes                     4500 non-null   uint8   \n",
      " 30  online_security_No internet service    4500 non-null   uint8   \n",
      " 31  online_security_Yes                    4500 non-null   uint8   \n",
      " 32  online_backup_No internet service      4500 non-null   uint8   \n",
      " 33  online_backup_Yes                      4500 non-null   uint8   \n",
      " 34  device_protection_No internet service  4500 non-null   uint8   \n",
      " 35  device_protection_Yes                  4500 non-null   uint8   \n",
      " 36  tech_support_No internet service       4500 non-null   uint8   \n",
      " 37  tech_support_Yes                       4500 non-null   uint8   \n",
      " 38  streaming_tv_No internet service       4500 non-null   uint8   \n",
      " 39  streaming_tv_Yes                       4500 non-null   uint8   \n",
      " 40  streaming_movies_No internet service   4500 non-null   uint8   \n",
      " 41  streaming_movies_Yes                   4500 non-null   uint8   \n",
      " 42  contract_type_One year                 4500 non-null   uint8   \n",
      " 43  contract_type_Two year                 4500 non-null   uint8   \n",
      " 44  internet_service_type_Fiber optic      4500 non-null   uint8   \n",
      " 45  internet_service_type_None             4500 non-null   uint8   \n",
      " 46  payment_type_Credit card (automatic)   4500 non-null   uint8   \n",
      " 47  payment_type_Electronic check          4500 non-null   uint8   \n",
      " 48  payment_type_Mailed check              4500 non-null   uint8   \n",
      " 49  Bundled                                4500 non-null   int64   \n",
      " 50  streaming_bundle                       4500 non-null   int64   \n",
      " 51  security_bundle                        4500 non-null   int64   \n",
      " 52  streaming_dsl                          4500 non-null   int64   \n",
      " 53  streaming_fiber                        4500 non-null   int64   \n",
      " 54  security_suite_dsl                     4500 non-null   int64   \n",
      " 55  security_suite_fiber                   4500 non-null   int64   \n",
      " 56  monthly_charge_groups                  4500 non-null   category\n",
      " 57  total_charge_groups                    4500 non-null   category\n",
      " 58  streaming_one                          4500 non-null   int64   \n",
      " 59  streaming_two                          4500 non-null   int64   \n",
      " 60  security_one                           4500 non-null   int64   \n",
      " 61  security_two                           4500 non-null   int64   \n",
      " 62  security_monthly                       4500 non-null   int64   \n",
      " 63  streaming_monthly                      4500 non-null   int64   \n",
      " 64  bundled_monthly                        4500 non-null   int64   \n",
      " 65  bundled_one                            4500 non-null   int64   \n",
      " 66  bundled_two                            4500 non-null   int64   \n",
      " 67  only_dsl                               4500 non-null   int64   \n",
      " 68  only_fiber                             4500 non-null   int64   \n",
      "dtypes: bool(1), category(2), float64(2), int64(27), object(16), uint8(21)\n",
      "memory usage: 1.7+ MB\n"
     ]
    }
   ],
   "source": [
    "telco_train.info()\n",
    "\n",
    "#telco_train.shape"
   ]
  },
  {
   "cell_type": "markdown",
   "metadata": {},
   "source": [
    "Next I want to look at my bundled services compared against churn rate to see if my hypothesis is correct. "
   ]
  },
  {
   "cell_type": "code",
   "execution_count": null,
   "metadata": {},
   "outputs": [],
   "source": [
    "cat_vars = ['payment_type_id','senior_citizen','en_contract_type',\n",
    "'en_multiple_lines','en_has_fiber','en_has_DSL','has_internet',\n",
    "'en_online_security','en_online_backup','en_device_protection',\n",
    "'en_tech_support','en_streaming_tv','en_streaming_movies',\n",
    "'gender_female','has_partner','has_dependents','has_phone_service',\n",
    "'has_paperless_billing', 'en_monthly_contract']"
   ]
  },
  {
   "cell_type": "code",
   "execution_count": 26,
   "metadata": {},
   "outputs": [
    {
     "data": {
      "text/plain": [
       "1    3512\n",
       "0     988\n",
       "Name: Bundled, dtype: int64"
      ]
     },
     "execution_count": 26,
     "metadata": {},
     "output_type": "execute_result"
    }
   ],
   "source": [
    "telco_train.Bundled.value_counts()"
   ]
  },
  {
   "cell_type": "markdown",
   "metadata": {},
   "source": [
    "The majority of customers bundle internet and phone servicees"
   ]
  },
  {
   "cell_type": "markdown",
   "metadata": {},
   "source": [
    "Here I will be testing my first question. Do customers who churn pay more than those who do not churn"
   ]
  },
  {
   "cell_type": "code",
   "execution_count": 33,
   "metadata": {},
   "outputs": [
    {
     "data": {
      "text/plain": [
       "<matplotlib.lines.Line2D at 0x15dc6d730>"
      ]
     },
     "execution_count": 33,
     "metadata": {},
     "output_type": "execute_result"
    },
    {
     "data": {
      "image/png": "[encoded data removed]",
      "text/plain": [
       "<Figure size 432x288 with 1 Axes>"
      ]
     },
     "metadata": {
      "needs_background": "light"
     },
     "output_type": "display_data"
    }
   ],
   "source": [
    "sns.barplot('churn', 'monthly_charges', data=telco_train)\n",
    "plt.axhline(telco_train.monthly_charges.mean(), ls = '--', color = 'black')"
   ]
  },
  {
   "cell_type": "code",
   "execution_count": 34,
   "metadata": {},
   "outputs": [
    {
     "data": {
      "text/plain": [
       "<AxesSubplot:xlabel='churn_encoded', ylabel='monthly_charge_groups'>"
      ]
     },
     "execution_count": 34,
     "metadata": {},
     "output_type": "execute_result"
    },
    {
     "data": {
      "image/png": "[encoded data removed]",
      "text/plain": [
       "<Figure size 432x288 with 1 Axes>"
      ]
     },
     "metadata": {
      "needs_background": "light"
     },
     "output_type": "display_data"
    }
   ],
   "source": [
    "sns.barplot(x = 'churn_encoded', y ='monthly_charge_groups', data=telco_train)\n"
   ]
  },
  {
   "cell_type": "markdown",
   "metadata": {},
   "source": [
    "Breaking down the monthly charges helps visulaize churn rates at thoughout the increasing intervals. We can see that churn steadily increases until the 20%. Athough the last group is lower than previous it is still the second highest. I will run a statistical test to determine whether or not this feature is statisitically significant."
   ]
  },
  {
   "cell_type": "code",
   "execution_count": 35,
   "metadata": {},
   "outputs": [
    {
     "name": "stdout",
     "output_type": "stream",
     "text": [
      "churn_encoded    0  1\n",
      "monthly_charges      \n",
      "18.25            1  0\n",
      "18.40            1  0\n",
      "18.55            1  0\n",
      "18.75            1  0\n",
      "18.80            2  0\n",
      "...             .. ..\n",
      "117.60           1  0\n",
      "118.20           1  0\n",
      "118.35           0  1\n",
      "118.60           2  0\n",
      "118.65           1  0\n",
      "\n",
      "[1388 rows x 2 columns]\n",
      "We reject the null hypothesis and this variable is statistically significant\n"
     ]
    }
   ],
   "source": [
    "monthly_group_stat = pd.crosstab(telco_train.monthly_charges, telco_train.churn_encoded)\n",
    "\n",
    "print(monthly_group_stat)\n",
    "\n",
    "a = 0.05\n",
    "\n",
    "chi2, p, degf, expected = stats.chi2_contingency(monthly_group_stat)\n",
    "\n",
    "chi2, p\n",
    "\n",
    "\n",
    "if p < a:\n",
    "    print(\"We reject the null hypothesis and this variable is statistically significant\")\n",
    "else:\n",
    "    print(\"We fail to reject the null hypothesis and this feature is not statisitcally significant\")"
   ]
  },
  {
   "cell_type": "code",
   "execution_count": 27,
   "metadata": {},
   "outputs": [
    {
     "data": {
      "text/plain": [
       "<matplotlib.lines.Line2D at 0x15c1e4ee0>"
      ]
     },
     "execution_count": 27,
     "metadata": {},
     "output_type": "execute_result"
    },
    {
     "data": {
      "image/png": "[encoded data removed]",
      "text/plain": [
       "<Figure size 432x288 with 1 Axes>"
      ]
     },
     "metadata": {
      "needs_background": "light"
     },
     "output_type": "display_data"
    }
   ],
   "source": [
    "sns.barplot('internet_service_type', 'monthly_charges', hue =  'churn', data=telco_train)\n",
    "plt.axhline(telco_train.monthly_charges.mean(), ls = '--', color = 'black')"
   ]
  },
  {
   "cell_type": "markdown",
   "metadata": {},
   "source": [
    "We can see that fiber optic customer account for the majority of service types and has a high churn rate. Next I will test to see if service type is statistically significant when comparing to churn"
   ]
  },
  {
   "cell_type": "code",
   "execution_count": 28,
   "metadata": {},
   "outputs": [
    {
     "name": "stdout",
     "output_type": "stream",
     "text": [
      "churn_encoded             0    1\n",
      "internet_service_type           \n",
      "DSL                    1254  286\n",
      "Fiber optic            1135  837\n",
      "None                    915   73\n",
      "We reject the null hypothesis and this variable is statistically significant\n"
     ]
    }
   ],
   "source": [
    "internet_service_stat = pd.crosstab(telco_train.internet_service_type, telco_train.churn_encoded)\n",
    "\n",
    "print(internet_service_stat)\n",
    "\n",
    "a = 0.05\n",
    "\n",
    "chi2, p, degf, expected = stats.chi2_contingency(internet_service_stat)\n",
    "\n",
    "chi2, p\n",
    "\n",
    "\n",
    "if p < a:\n",
    "    print(\"We reject the null hypothesis and this variable is statistically significant\")\n",
    "else:\n",
    "    print(\"We fail to reject the null hypothesis and this feature is not statisitcally significant\")"
   ]
  },
  {
   "cell_type": "markdown",
   "metadata": {},
   "source": [
    "The test conclude that internet service type is a statistically signifcant variable and churning is not randomly happening by chance. "
   ]
  },
  {
   "cell_type": "code",
   "execution_count": 38,
   "metadata": {},
   "outputs": [
    {
     "data": {
      "text/plain": [
       "<AxesSubplot:xlabel='churn', ylabel='security_bundle'>"
      ]
     },
     "execution_count": 38,
     "metadata": {},
     "output_type": "execute_result"
    },
    {
     "data": {
      "image/png": "[encoded data removed]",
      "text/plain": [
       "<Figure size 432x288 with 1 Axes>"
      ]
     },
     "metadata": {
      "needs_background": "light"
     },
     "output_type": "display_data"
    }
   ],
   "source": [
    "sns.barplot(x = 'churn', y ='security_bundle', data=telco_train)\n"
   ]
  },
  {
   "cell_type": "code",
   "execution_count": 39,
   "metadata": {},
   "outputs": [
    {
     "name": "stdout",
     "output_type": "stream",
     "text": [
      "churn_encoded       0    1\n",
      "security_bundle           \n",
      "0                1119  219\n",
      "1                2185  977\n",
      "We reject the null hypothesis and this variable is statistically significant\n"
     ]
    }
   ],
   "source": [
    "security_stat = pd.crosstab(telco_train.security_bundle, telco_train.churn_encoded)\n",
    "\n",
    "print(security_stat)\n",
    "\n",
    "a = 0.05\n",
    "\n",
    "chi2, p, degf, expected = stats.chi2_contingency(security_stat)\n",
    "\n",
    "chi2, p\n",
    "\n",
    "\n",
    "if p < a:\n",
    "    print(\"We reject the null hypothesis and this variable is statistically significant\")\n",
    "else:\n",
    "    print(\"We fail to reject the null hypothesis and this feature is not statisitcally significant\")"
   ]
  },
  {
   "cell_type": "code",
   "execution_count": 37,
   "metadata": {},
   "outputs": [
    {
     "data": {
      "text/plain": [
       "(0    2764\n",
       " 1    1736\n",
       " Name: streaming_fiber, dtype: int64,\n",
       " 1    2284\n",
       " 0    2216\n",
       " Name: security_suite_fiber, dtype: int64)"
      ]
     },
     "execution_count": 37,
     "metadata": {},
     "output_type": "execute_result"
    }
   ],
   "source": [
    "telco_train.streaming_fiber.value_counts(), telco_train.security_suite_fiber.value_counts()"
   ]
  },
  {
   "cell_type": "code",
   "execution_count": 15,
   "metadata": {},
   "outputs": [
    {
     "data": {
      "image/png": "[encoded data removed]",
      "text/plain": [
       "<Figure size 432x288 with 1 Axes>"
      ]
     },
     "metadata": {
      "needs_background": "light"
     },
     "output_type": "display_data"
    },
    {
     "data": {
      "image/png": "[encoded data removed]",
      "text/plain": [
       "<Figure size 432x288 with 1 Axes>"
      ]
     },
     "metadata": {
      "needs_background": "light"
     },
     "output_type": "display_data"
    },
    {
     "data": {
      "image/png": "[encoded data removed]",
      "text/plain": [
       "<Figure size 432x288 with 1 Axes>"
      ]
     },
     "metadata": {
      "needs_background": "light"
     },
     "output_type": "display_data"
    },
    {
     "data": {
      "image/png": "[encoded data removed]",
      "text/plain": [
       "<Figure size 432x288 with 1 Axes>"
      ]
     },
     "metadata": {
      "needs_background": "light"
     },
     "output_type": "display_data"
    }
   ],
   "source": [
    "variables = ['security_suite_dsl','security_suite_fiber','streaming_dsl', 'streaming_fiber']\n",
    "\n",
    "mean = [telco_train['security_suite_dsl'].mean(), telco_train['security_suite_fiber'].mean(), telco_train['streaming_dsl'].mean(), telco_train['streaming_fiber'].mean()]\n",
    "\n",
    "for x in range(0,4):\n",
    "    sns.barplot('churn',variables[x], data=telco_train)\n",
    "    \n",
    "    plt.xlabel('')\n",
    "    plt.title(variables[x])\n",
    "    plt.axhline(mean[x], ls = '--', color = 'black')\n",
    "    plt.show()"
   ]
  },
  {
   "cell_type": "markdown",
   "metadata": {},
   "source": [
    "This is interesting. I would expect fiber users with faster internet to enjoy streaming more and essentailly churn less. However, it appears that streaming bundles churn more for both internet types. Security features seem to be keep customers from churning. This is the overall picture and I want to explore if contract type makes any difference in churn rates."
   ]
  },
  {
   "cell_type": "code",
   "execution_count": 16,
   "metadata": {},
   "outputs": [
    {
     "name": "stdout",
     "output_type": "stream",
     "text": [
      "churn_encoded       0    1\n",
      "streaming_fiber           \n",
      "0                2077  687\n",
      "1                1227  509\n",
      "We reject the null hypothesis and this variable is statistically significant\n"
     ]
    }
   ],
   "source": [
    "streaming_fiber_stat = pd.crosstab(telco_train.streaming_fiber, telco_train.churn_encoded)\n",
    "\n",
    "print(streaming_fiber_stat)\n",
    "\n",
    "a = 0.05\n",
    "\n",
    "chi2, p, degf, expected = stats.chi2_contingency(streaming_fiber_stat)\n",
    "\n",
    "chi2, p\n",
    "\n",
    "\n",
    "if p < a:\n",
    "    print(\"We reject the null hypothesis and this variable is statistically significant\")\n",
    "else:\n",
    "    print(\"We fail to reject the null hypothesis and this feature is not statisitcally significant\")"
   ]
  },
  {
   "cell_type": "code",
   "execution_count": 17,
   "metadata": {},
   "outputs": [
    {
     "name": "stdout",
     "output_type": "stream",
     "text": [
      "churn_encoded            0    1\n",
      "security_suite_fiber           \n",
      "0                     1525  691\n",
      "1                     1779  505\n",
      "We reject the null hypothesis and this feature is statistically significant\n"
     ]
    }
   ],
   "source": [
    "security_fiber_stat = pd.crosstab(telco_train.security_suite_fiber, telco_train.churn_encoded)\n",
    "\n",
    "print(security_fiber_stat)\n",
    "\n",
    "a = 0.05\n",
    "\n",
    "chi2, p, degf, expected = stats.chi2_contingency(security_fiber_stat)\n",
    "\n",
    "chi2, p\n",
    "\n",
    "\n",
    "if p < a:\n",
    "    print(\"We reject the null hypothesis and this feature is statistically significant\")\n",
    "else:\n",
    "    print(\"We fail to reject the null hypothesis and this feature is not statistically significant\")"
   ]
  },
  {
   "cell_type": "code",
   "execution_count": 18,
   "metadata": {},
   "outputs": [
    {
     "name": "stdout",
     "output_type": "stream",
     "text": [
      "churn_encoded          0    1\n",
      "security_suite_dsl           \n",
      "0                   1504  723\n",
      "1                   1800  473\n",
      "We reject the null hypothesis and this feature is statistically significant\n"
     ]
    }
   ],
   "source": [
    "security_dsl_stat = pd.crosstab(telco_train.security_suite_dsl, telco_train.churn_encoded)\n",
    "\n",
    "print(security_dsl_stat)\n",
    "\n",
    "a = 0.05\n",
    "\n",
    "chi2, p, degf, expected = stats.chi2_contingency(security_dsl_stat)\n",
    "\n",
    "chi2, p\n",
    "\n",
    "\n",
    "if p < a:\n",
    "    print(\"We reject the null hypothesis and this feature is statistically significant\")\n",
    "else:\n",
    "    print(\"We fail to reject the null hypothesis and this feature is not statistically significant\")"
   ]
  },
  {
   "cell_type": "code",
   "execution_count": 19,
   "metadata": {},
   "outputs": [
    {
     "name": "stdout",
     "output_type": "stream",
     "text": [
      "churn_encoded     0    1\n",
      "streaming_dsl           \n",
      "0              1889  647\n",
      "1              1415  549\n",
      "We fail to reject the null hypothesis and this feature is not statisitcally significant\n"
     ]
    }
   ],
   "source": [
    "streaming_dsl_stat = pd.crosstab(telco_train.streaming_dsl, telco_train.churn_encoded)\n",
    "\n",
    "print(streaming_dsl_stat)\n",
    "\n",
    "a = 0.05\n",
    "\n",
    "chi2, p, degf, expected = stats.chi2_contingency(streaming_dsl_stat)\n",
    "\n",
    "chi2, p\n",
    "\n",
    "\n",
    "if p < a:\n",
    "    print(\"We reject the null hypothesis and this variable is statistically significant\")\n",
    "else:\n",
    "    print(\"We fail to reject the null hypothesis and this feature is not statisitcally significant\")"
   ]
  },
  {
   "cell_type": "code",
   "execution_count": 20,
   "metadata": {},
   "outputs": [
    {
     "data": {
      "text/plain": [
       "<AxesSubplot:xlabel='churn_encoded', ylabel='monthly_charge_groups'>"
      ]
     },
     "execution_count": 20,
     "metadata": {},
     "output_type": "execute_result"
    },
    {
     "data": {
      "image/png": "[encoded data removed]",
      "text/plain": [
       "<Figure size 432x288 with 1 Axes>"
      ]
     },
     "metadata": {
      "needs_background": "light"
     },
     "output_type": "display_data"
    }
   ],
   "source": [
    "sns.barplot(x = 'churn_encoded', y ='monthly_charge_groups', data=telco_train)\n",
    "\n"
   ]
  },
  {
   "cell_type": "code",
   "execution_count": 21,
   "metadata": {},
   "outputs": [
    {
     "data": {
      "text/plain": [
       "monthly_charge_groups\n",
       "0-19%       20.726562\n",
       "20-39%      44.137065\n",
       "40-59%      69.818901\n",
       "60-79%      86.168274\n",
       "80-100%    103.067181\n",
       "Name: monthly_charges, dtype: float64"
      ]
     },
     "execution_count": 21,
     "metadata": {},
     "output_type": "execute_result"
    }
   ],
   "source": [
    "telco_train.groupby('monthly_charge_groups').monthly_charges.mean()"
   ]
  },
  {
   "cell_type": "markdown",
   "metadata": {},
   "source": [
    "I broke down the monthly charges into bins to determine if after a certain threshold customers were more likely to churn. The first jump after 20% shows a significant change in churn. However, they start to follow closer to a normal distribution. What is the underlying cause of the higher monthly charges?"
   ]
  },
  {
   "cell_type": "code",
   "execution_count": 42,
   "metadata": {},
   "outputs": [
    {
     "data": {
      "text/plain": [
       "<AxesSubplot:xlabel='churn', ylabel='Bundled'>"
      ]
     },
     "execution_count": 42,
     "metadata": {},
     "output_type": "execute_result"
    },
    {
     "data": {
      "image/png": "[encoded data removed]",
      "text/plain": [
       "<Figure size 432x288 with 1 Axes>"
      ]
     },
     "metadata": {
      "needs_background": "light"
     },
     "output_type": "display_data"
    }
   ],
   "source": [
    "sns.barplot(x = 'churn', y ='Bundled', data=telco_train)"
   ]
  },
  {
   "cell_type": "code",
   "execution_count": 43,
   "metadata": {},
   "outputs": [
    {
     "data": {
      "text/plain": [
       "<AxesSubplot:xlabel='Bundled', ylabel='tenure'>"
      ]
     },
     "execution_count": 43,
     "metadata": {},
     "output_type": "execute_result"
    },
    {
     "data": {
      "image/png": "[encoded data removed]",
      "text/plain": [
       "<Figure size 432x288 with 1 Axes>"
      ]
     },
     "metadata": {
      "needs_background": "light"
     },
     "output_type": "display_data"
    }
   ],
   "source": [
    "sns.barplot('Bundled', 'tenure', hue =  'churn', data=telco_train)"
   ]
  },
  {
   "cell_type": "code",
   "execution_count": 44,
   "metadata": {},
   "outputs": [
    {
     "name": "stdout",
     "output_type": "stream",
     "text": [
      "churn_encoded     0     1\n",
      "Bundled                  \n",
      "0               915    73\n",
      "1              2389  1123\n",
      "We reject the null hypothesis and this variable is statistically significant\n"
     ]
    }
   ],
   "source": [
    "bundled_stat = pd.crosstab(telco_train.Bundled, telco_train.churn_encoded)\n",
    "\n",
    "print(bundled_stat)\n",
    "\n",
    "a = 0.05\n",
    "\n",
    "chi2, p, degf, expected = stats.chi2_contingency(bundled_stat)\n",
    "\n",
    "chi2, p\n",
    "\n",
    "\n",
    "if p < a:\n",
    "    print(\"We reject the null hypothesis and this variable is statistically significant\")\n",
    "else:\n",
    "    print(\"We fail to reject the null hypothesis and this feature is not statisitcally significant\")"
   ]
  },
  {
   "cell_type": "code",
   "execution_count": 24,
   "metadata": {},
   "outputs": [
    {
     "data": {
      "text/plain": [
       "<AxesSubplot:xlabel='churn', ylabel='security_bundle'>"
      ]
     },
     "execution_count": 24,
     "metadata": {},
     "output_type": "execute_result"
    },
    {
     "data": {
      "image/png": "[encoded data removed]",
      "text/plain": [
       "<Figure size 432x288 with 1 Axes>"
      ]
     },
     "metadata": {
      "needs_background": "light"
     },
     "output_type": "display_data"
    }
   ],
   "source": [
    "sns.barplot(x = 'churn', y ='security_bundle', data=telco_train)"
   ]
  },
  {
   "cell_type": "code",
   "execution_count": 25,
   "metadata": {},
   "outputs": [
    {
     "name": "stdout",
     "output_type": "stream",
     "text": [
      "churn_encoded       0    1\n",
      "security_bundle           \n",
      "0                1119  219\n",
      "1                2185  977\n",
      "We reject the null hypothesis and this variable is statistically significant\n"
     ]
    }
   ],
   "source": [
    "security_bundle_stat = pd.crosstab(telco_train.security_bundle, telco_train.churn_encoded)\n",
    "\n",
    "print(security_bundle_stat)\n",
    "\n",
    "a = 0.05\n",
    "\n",
    "chi2, p, degf, expected = stats.chi2_contingency(security_bundle_stat)\n",
    "\n",
    "chi2, p\n",
    "\n",
    "\n",
    "if p < a:\n",
    "    print(\"We reject the null hypothesis and this variable is statistically significant\")\n",
    "else:\n",
    "    print(\"We fail to reject the null hypothesis and this feature is not statisitcally significant\")"
   ]
  },
  {
   "cell_type": "code",
   "execution_count": 40,
   "metadata": {},
   "outputs": [
    {
     "data": {
      "text/plain": [
       "<AxesSubplot:xlabel='churn', ylabel='streaming_bundle'>"
      ]
     },
     "execution_count": 40,
     "metadata": {},
     "output_type": "execute_result"
    },
    {
     "data": {
      "image/png": "[encoded data removed]",
      "text/plain": [
       "<Figure size 432x288 with 1 Axes>"
      ]
     },
     "metadata": {
      "needs_background": "light"
     },
     "output_type": "display_data"
    }
   ],
   "source": [
    "sns.barplot(x = 'churn', y ='streaming_bundle', data=telco_train)"
   ]
  },
  {
   "cell_type": "code",
   "execution_count": 41,
   "metadata": {},
   "outputs": [
    {
     "name": "stdout",
     "output_type": "stream",
     "text": [
      "churn_encoded        0    1\n",
      "streaming_bundle           \n",
      "0                 1445  245\n",
      "1                 1859  951\n",
      "We reject the null hypothesis and this variable is statistically significant\n"
     ]
    }
   ],
   "source": [
    "streaming_bundle_stat = pd.crosstab(telco_train.streaming_bundle, telco_train.churn_encoded)\n",
    "\n",
    "print(streaming_bundle_stat)\n",
    "\n",
    "a = 0.05\n",
    "\n",
    "chi2, p, degf, expected = stats.chi2_contingency(streaming_bundle_stat)\n",
    "\n",
    "chi2, p\n",
    "\n",
    "\n",
    "if p < a:\n",
    "    print(\"We reject the null hypothesis and this variable is statistically significant\")\n",
    "else:\n",
    "    print(\"We fail to reject the null hypothesis and this feature is not statisitcally significant\")"
   ]
  },
  {
   "cell_type": "code",
   "execution_count": null,
   "metadata": {},
   "outputs": [
    {
     "data": {
      "text/plain": [
       "total_charge_groups\n",
       "0-10%       41.109677\n",
       "10-20%      50.616381\n",
       "20-30%      47.901345\n",
       "30-40%      50.685287\n",
       "40-50%      50.218519\n",
       "50-60%      57.549425\n",
       "60-70%      74.992670\n",
       "70-80%      80.237912\n",
       "80-90%      90.004656\n",
       "90-100%    102.836652\n",
       "Name: monthly_charges, dtype: float64"
      ]
     },
     "execution_count": 24,
     "metadata": {},
     "output_type": "execute_result"
    }
   ],
   "source": [
    "telco_train.groupby('total_charge_groups').monthly_charges.mean()"
   ]
  },
  {
   "cell_type": "code",
   "execution_count": null,
   "metadata": {},
   "outputs": [
    {
     "data": {
      "text/plain": [
       "tenure\n",
       "1     50.116789\n",
       "2     58.633548\n",
       "3     56.622426\n",
       "4     54.373967\n",
       "5     56.551899\n",
       "6     55.036765\n",
       "7     61.818675\n",
       "8     59.706410\n",
       "9     63.274627\n",
       "10    56.362805\n",
       "11    61.957407\n",
       "12    56.452027\n",
       "13    63.773239\n",
       "14    60.240698\n",
       "15    57.589062\n",
       "16    58.001961\n",
       "17    68.457143\n",
       "18    59.683036\n",
       "19    58.506522\n",
       "20    59.881250\n",
       "21    67.973684\n",
       "22    58.855556\n",
       "23    62.333654\n",
       "24    61.250909\n",
       "25    60.317021\n",
       "26    63.792453\n",
       "27    62.452083\n",
       "28    66.555556\n",
       "29    63.667442\n",
       "30    69.905435\n",
       "31    69.731395\n",
       "32    73.743617\n",
       "33    64.814474\n",
       "34    67.896939\n",
       "35    61.525000\n",
       "36    64.667308\n",
       "37    67.417857\n",
       "38    69.097368\n",
       "39    55.704286\n",
       "40    70.723256\n",
       "41    63.787500\n",
       "42    65.234444\n",
       "43    68.162162\n",
       "44    64.662857\n",
       "45    77.691667\n",
       "46    65.982653\n",
       "47    69.810870\n",
       "48    67.350000\n",
       "49    74.134615\n",
       "50    75.022500\n",
       "51    66.330556\n",
       "52    67.371930\n",
       "53    67.700893\n",
       "54    73.245122\n",
       "55    63.942045\n",
       "56    71.966667\n",
       "57    69.462500\n",
       "58    68.812500\n",
       "59    77.458824\n",
       "60    74.506818\n",
       "61    75.165217\n",
       "62    70.707143\n",
       "63    71.442391\n",
       "64    76.468868\n",
       "65    78.492553\n",
       "66    76.615789\n",
       "67    74.396923\n",
       "68    72.083571\n",
       "69    71.479687\n",
       "70    74.703226\n",
       "71    76.884071\n",
       "72    79.248298\n",
       "Name: monthly_charges, dtype: float64"
      ]
     },
     "execution_count": 25,
     "metadata": {},
     "output_type": "execute_result"
    }
   ],
   "source": [
    "telco_train.groupby('tenure').monthly_charges.mean()"
   ]
  },
  {
   "cell_type": "markdown",
   "metadata": {},
   "source": [
    "Looking at the groupby tenure against monthly charges it looks that monthly charges are positively correlated as tenure rises so do monthly payments. I think a part of this is beacuse people add on services. I want to break down how Telco services affect churn rate. "
   ]
  },
  {
   "cell_type": "code",
   "execution_count": null,
   "metadata": {},
   "outputs": [
    {
     "data": {
      "text/plain": [
       "<AxesSubplot:xlabel='churn_encoded', ylabel='tenure'>"
      ]
     },
     "execution_count": 26,
     "metadata": {},
     "output_type": "execute_result"
    },
    {
     "data": {
      "image/png": "[encoded data removed]",
      "text/plain": [
       "<Figure size 432x288 with 1 Axes>"
      ]
     },
     "metadata": {
      "needs_background": "light"
     },
     "output_type": "display_data"
    }
   ],
   "source": [
    "sns.violinplot(x = 'churn_encoded', y ='tenure', data=telco_train)"
   ]
  },
  {
   "cell_type": "markdown",
   "metadata": {},
   "source": [
    "The two graphs above are showing that churn happens with the lowest 10th% are inclined to churn more and more churn happens early in tenure compared to after. I will apply a bundle condtion to one year and two year contract to see if there is any significance."
   ]
  },
  {
   "cell_type": "code",
   "execution_count": null,
   "metadata": {},
   "outputs": [
    {
     "data": {
      "text/plain": [
       "count    72.000000\n",
       "mean     66.247089\n",
       "std       6.888483\n",
       "min      50.116789\n",
       "25%      61.017437\n",
       "50%      66.443056\n",
       "75%      71.451715\n",
       "max      79.248298\n",
       "Name: monthly_charges, dtype: float64"
      ]
     },
     "execution_count": 27,
     "metadata": {},
     "output_type": "execute_result"
    }
   ],
   "source": [
    "telco_train.groupby('tenure').monthly_charges.mean().describe()"
   ]
  },
  {
   "cell_type": "markdown",
   "metadata": {},
   "source": [
    "Looking at the describe data, it does not show much a of a deviation as time goes on. Perhaps it looks worse when looking at lowest tenure monthly charge mean against the highest tenure monthly mean. However the differnce is not as great as originally thought. "
   ]
  },
  {
   "cell_type": "code",
   "execution_count": null,
   "metadata": {},
   "outputs": [
    {
     "data": {
      "image/png": "[encoded data removed]",
      "text/plain": [
       "<Figure size 432x288 with 1 Axes>"
      ]
     },
     "metadata": {
      "needs_background": "light"
     },
     "output_type": "display_data"
    },
    {
     "data": {
      "image/png": "[encoded data removed]",
      "text/plain": [
       "<Figure size 432x288 with 1 Axes>"
      ]
     },
     "metadata": {
      "needs_background": "light"
     },
     "output_type": "display_data"
    },
    {
     "data": {
      "image/png": "[encoded data removed]",
      "text/plain": [
       "<Figure size 432x288 with 1 Axes>"
      ]
     },
     "metadata": {
      "needs_background": "light"
     },
     "output_type": "display_data"
    },
    {
     "data": {
      "image/png": "[encoded data removed]",
      "text/plain": [
       "<Figure size 432x288 with 1 Axes>"
      ]
     },
     "metadata": {
      "needs_background": "light"
     },
     "output_type": "display_data"
    }
   ],
   "source": [
    "variables2 = ['security_one','security_two','streaming_one', 'streaming_two']\n",
    "\n",
    "mean2 = [telco_train['security_one'].mean(), telco_train['security_two'].mean(), telco_train['streaming_one'].mean(), telco_train['streaming_one'].mean()]\n",
    "\n",
    "for x in range(0,4):\n",
    "    sns.barplot('churn',variables2[x], data=telco_train)\n",
    "    \n",
    "    plt.xlabel('')\n",
    "    plt.title(variables2[x])\n",
    "    plt.axhline(mean2[x], ls = '--', color = 'black')\n",
    "    plt.show()"
   ]
  },
  {
   "cell_type": "markdown",
   "metadata": {},
   "source": [
    "From my previous charts it shows that having security services bundled with internet churn less than streaming bundled customers. Despite a higher montly charge due to additional services the security customers churn less. "
   ]
  },
  {
   "cell_type": "code",
   "execution_count": null,
   "metadata": {},
   "outputs": [
    {
     "data": {
      "text/plain": [
       "<AxesSubplot:xlabel='Bundled', ylabel='tenure'>"
      ]
     },
     "execution_count": 29,
     "metadata": {},
     "output_type": "execute_result"
    },
    {
     "data": {
      "image/png": "[encoded data removed]",
      "text/plain": [
       "<Figure size 432x288 with 1 Axes>"
      ]
     },
     "metadata": {
      "needs_background": "light"
     },
     "output_type": "display_data"
    }
   ],
   "source": []
  },
  {
   "cell_type": "code",
   "execution_count": null,
   "metadata": {},
   "outputs": [
    {
     "data": {
      "text/plain": [
       "<matplotlib.lines.Line2D at 0x150dff9a0>"
      ]
     },
     "execution_count": 30,
     "metadata": {},
     "output_type": "execute_result"
    },
    {
     "data": {
      "image/png": "[encoded data removed]",
      "text/plain": [
       "<Figure size 432x288 with 1 Axes>"
      ]
     },
     "metadata": {
      "needs_background": "light"
     },
     "output_type": "display_data"
    }
   ],
   "source": [
    "sns.barplot('payment_type', 'monthly_charges', hue =  'churn', data=telco_train)\n",
    "plt.axhline(telco_train.monthly_charges.mean(), ls = '--', color = 'black')"
   ]
  },
  {
   "cell_type": "code",
   "execution_count": null,
   "metadata": {},
   "outputs": [
    {
     "data": {
      "text/plain": [
       "<matplotlib.lines.Line2D at 0x150e705b0>"
      ]
     },
     "execution_count": 31,
     "metadata": {},
     "output_type": "execute_result"
    },
    {
     "data": {
      "image/png": "[encoded data removed]",
      "text/plain": [
       "<Figure size 432x288 with 1 Axes>"
      ]
     },
     "metadata": {
      "needs_background": "light"
     },
     "output_type": "display_data"
    }
   ],
   "source": [
    "sns.barplot('internet_service_type', 'monthly_charges', hue =  'churn', data=telco_train)\n",
    "plt.axhline(telco_train.monthly_charges.mean(), ls = '--', color = 'black')"
   ]
  },
  {
   "cell_type": "code",
   "execution_count": null,
   "metadata": {},
   "outputs": [
    {
     "data": {
      "image/png": "[encoded data removed]",
      "text/plain": [
       "<Figure size 432x288 with 1 Axes>"
      ]
     },
     "metadata": {
      "needs_background": "light"
     },
     "output_type": "display_data"
    },
    {
     "data": {
      "image/png": "[encoded data removed]",
      "text/plain": [
       "<Figure size 432x288 with 1 Axes>"
      ]
     },
     "metadata": {
      "needs_background": "light"
     },
     "output_type": "display_data"
    },
    {
     "data": {
      "image/png": "[encoded data removed]",
      "text/plain": [
       "<Figure size 432x288 with 1 Axes>"
      ]
     },
     "metadata": {
      "needs_background": "light"
     },
     "output_type": "display_data"
    }
   ],
   "source": [
    "variables3 = ['security_monthly','streaming_monthly', 'bundled_monthly']\n",
    "\n",
    "mean3 = [telco_train['security_monthly'].mean(), telco_train['security_monthly'].mean(), telco_train['bundled_monthly'].mean()]\n",
    "\n",
    "for x in range(0,3):\n",
    "    sns.barplot('churn',variables3[x], data=telco_train)\n",
    "    \n",
    "    plt.xlabel('')\n",
    "    plt.title(variables3[x])\n",
    "    plt.axhline(mean3[x], ls = '--', color = 'black')\n",
    "    plt.show()"
   ]
  },
  {
   "cell_type": "markdown",
   "metadata": {},
   "source": [
    "After breaking down month to month customers by bundles and service types, the trends continue. We can see that security services continue to encourage retention while streaming is the opposite. "
   ]
  },
  {
   "cell_type": "code",
   "execution_count": null,
   "metadata": {},
   "outputs": [
    {
     "data": {
      "text/plain": [
       "bundled_monthly\n",
       "0    40.659439\n",
       "1    80.010901\n",
       "Name: monthly_charges, dtype: float64"
      ]
     },
     "execution_count": 33,
     "metadata": {},
     "output_type": "execute_result"
    }
   ],
   "source": [
    "telco_train.groupby('bundled_monthly').monthly_charges.mean()"
   ]
  },
  {
   "cell_type": "code",
   "execution_count": null,
   "metadata": {},
   "outputs": [
    {
     "data": {
      "text/plain": [
       "streaming_monthly\n",
       "0    46.022426\n",
       "1    87.036940\n",
       "Name: monthly_charges, dtype: float64"
      ]
     },
     "execution_count": 34,
     "metadata": {},
     "output_type": "execute_result"
    }
   ],
   "source": [
    "telco_train.groupby('streaming_monthly').monthly_charges.mean()"
   ]
  },
  {
   "cell_type": "code",
   "execution_count": null,
   "metadata": {},
   "outputs": [
    {
     "data": {
      "text/plain": [
       "security_monthly\n",
       "0    48.765987\n",
       "1    79.761135\n",
       "Name: monthly_charges, dtype: float64"
      ]
     },
     "execution_count": 35,
     "metadata": {},
     "output_type": "execute_result"
    }
   ],
   "source": [
    "telco_train.groupby('security_monthly').monthly_charges.mean()"
   ]
  },
  {
   "cell_type": "markdown",
   "metadata": {},
   "source": [
    "Bundled monthly is churning more than streaming and security. The average monthly pay for these customers is less than streaming and almost the same for "
   ]
  },
  {
   "cell_type": "code",
   "execution_count": null,
   "metadata": {},
   "outputs": [
    {
     "data": {
      "text/plain": [
       "streaming_dsl\n",
       "0    48.522220\n",
       "1    85.646818\n",
       "Name: monthly_charges, dtype: float64"
      ]
     },
     "execution_count": 36,
     "metadata": {},
     "output_type": "execute_result"
    }
   ],
   "source": [
    "telco_train.groupby('streaming_dsl').monthly_charges.mean()"
   ]
  },
  {
   "cell_type": "code",
   "execution_count": null,
   "metadata": {},
   "outputs": [
    {
     "data": {
      "text/plain": [
       "streaming_fiber\n",
       "0    49.483973\n",
       "1    88.991359\n",
       "Name: monthly_charges, dtype: float64"
      ]
     },
     "execution_count": 37,
     "metadata": {},
     "output_type": "execute_result"
    }
   ],
   "source": [
    "telco_train.groupby('streaming_fiber').monthly_charges.mean()"
   ]
  },
  {
   "cell_type": "code",
   "execution_count": null,
   "metadata": {},
   "outputs": [
    {
     "data": {
      "text/plain": [
       "security_suite_dsl\n",
       "0    50.492366\n",
       "1    78.669688\n",
       "Name: monthly_charges, dtype: float64"
      ]
     },
     "execution_count": 38,
     "metadata": {},
     "output_type": "execute_result"
    }
   ],
   "source": [
    "telco_train.groupby('security_suite_dsl').monthly_charges.mean()"
   ]
  },
  {
   "cell_type": "code",
   "execution_count": null,
   "metadata": {},
   "outputs": [
    {
     "data": {
      "text/plain": [
       "security_suite_fiber\n",
       "0    47.746593\n",
       "1    81.198008\n",
       "Name: monthly_charges, dtype: float64"
      ]
     },
     "execution_count": 39,
     "metadata": {},
     "output_type": "execute_result"
    }
   ],
   "source": [
    "telco_train.groupby('security_suite_fiber').monthly_charges.mean()"
   ]
  },
  {
   "cell_type": "code",
   "execution_count": null,
   "metadata": {},
   "outputs": [
    {
     "data": {
      "text/plain": [
       "Bundled\n",
       "0    21.062702\n",
       "1    77.008186\n",
       "Name: monthly_charges, dtype: float64"
      ]
     },
     "execution_count": 40,
     "metadata": {},
     "output_type": "execute_result"
    }
   ],
   "source": [
    "telco_train.groupby('Bundled').monthly_charges.mean()"
   ]
  },
  {
   "cell_type": "markdown",
   "metadata": {},
   "source": [
    "The average monthly charges for customers with security services is 80 a month\n",
    "The average monthly charges for customers with streaming services is 87.50 a month\n",
    "the average monthly costs for customers with internet and phone is 77 a month "
   ]
  },
  {
   "cell_type": "code",
   "execution_count": null,
   "metadata": {},
   "outputs": [
    {
     "data": {
      "text/plain": [
       "only_fiber\n",
       "0    64.725044\n",
       "Name: monthly_charges, dtype: float64"
      ]
     },
     "execution_count": 41,
     "metadata": {},
     "output_type": "execute_result"
    }
   ],
   "source": [
    "telco_train.groupby('only_fiber').monthly_charges.mean()"
   ]
  },
  {
   "cell_type": "code",
   "execution_count": null,
   "metadata": {},
   "outputs": [
    {
     "data": {
      "text/plain": [
       "internet_service_type_Fiber optic\n",
       "0    43.701760\n",
       "1    91.675786\n",
       "Name: monthly_charges, dtype: float64"
      ]
     },
     "execution_count": 42,
     "metadata": {},
     "output_type": "execute_result"
    }
   ],
   "source": [
    "telco_train.groupby('internet_service_type_Fiber optic').monthly_charges.mean()"
   ]
  },
  {
   "cell_type": "code",
   "execution_count": null,
   "metadata": {},
   "outputs": [
    {
     "data": {
      "text/plain": [
       "only_dsl\n",
       "0    67.160558\n",
       "1    41.790625\n",
       "Name: monthly_charges, dtype: float64"
      ]
     },
     "execution_count": 43,
     "metadata": {},
     "output_type": "execute_result"
    }
   ],
   "source": [
    "telco_train.groupby('only_dsl').monthly_charges.mean()"
   ]
  },
  {
   "cell_type": "code",
   "execution_count": null,
   "metadata": {},
   "outputs": [],
   "source": [
    "security = [\n",
    "    ('security_one', 'security_two'),\n",
    "    ('security_monthly', 'security_suite_fiber'),\n",
    "    ('securtiy_suite_dsl'), \n",
    "]\n",
    "\n",
    "securtiy_mean = [telco_train['security_one'].mean(), telco_train['security_two'].mean(), telco_train['security_monthly'].mean(), telco_train['security_suite_fiber'].mean(), telco_train['security_suite_dsl'].mean()]\n"
   ]
  },
  {
   "cell_type": "code",
   "execution_count": null,
   "metadata": {},
   "outputs": [
    {
     "data": {
      "image/png": "[encoded data removed]",
      "text/plain": [
       "<Figure size 432x288 with 1 Axes>"
      ]
     },
     "metadata": {
      "needs_background": "light"
     },
     "output_type": "display_data"
    },
    {
     "data": {
      "image/png": "[encoded data removed]",
      "text/plain": [
       "<Figure size 432x288 with 1 Axes>"
      ]
     },
     "metadata": {
      "needs_background": "light"
     },
     "output_type": "display_data"
    },
    {
     "data": {
      "image/png": "[encoded data removed]",
      "text/plain": [
       "<Figure size 432x288 with 1 Axes>"
      ]
     },
     "metadata": {
      "needs_background": "light"
     },
     "output_type": "display_data"
    },
    {
     "data": {
      "image/png": "[encoded data removed]",
      "text/plain": [
       "<Figure size 432x288 with 1 Axes>"
      ]
     },
     "metadata": {
      "needs_background": "light"
     },
     "output_type": "display_data"
    },
    {
     "data": {
      "image/png": "[encoded data removed]",
      "text/plain": [
       "<Figure size 432x288 with 1 Axes>"
      ]
     },
     "metadata": {
      "needs_background": "light"
     },
     "output_type": "display_data"
    }
   ],
   "source": [
    "security = ['security_one', 'security_two', 'security_monthly', 'security_suite_fiber', 'security_suite_dsl']\n",
    "\n",
    "security_mean = [telco_train['security_one'].mean(), telco_train['security_two'].mean(), telco_train['security_monthly'].mean(), telco_train['security_suite_fiber'].mean(), telco_train['security_suite_dsl'].mean()]\n",
    "\n",
    "# x_sec = security\n",
    "# y_sec = 'churn'\n",
    "#def security_bars():\n",
    "for x in range(0,5):\n",
    "        # fig, axes = plt.subplots(2, 2)\n",
    "        sns.barplot('churn',security[x], data=telco_train)\n",
    "        plt.xlabel('')\n",
    "        plt.title(security[x])\n",
    "        plt.axhline(security_mean[x], ls = '--', color = 'black')\n",
    "        plt.show()"
   ]
  },
  {
   "cell_type": "code",
   "execution_count": null,
   "metadata": {},
   "outputs": [
    {
     "ename": "SyntaxError",
     "evalue": "cannot assign to function call (2131320198.py, line 1)",
     "output_type": "error",
     "traceback": [
      "\u001b[0;36m  Input \u001b[0;32mIn [46]\u001b[0;36m\u001b[0m\n\u001b[0;31m    h(1) = subplot(3,2,1);\u001b[0m\n\u001b[0m    ^\u001b[0m\n\u001b[0;31mSyntaxError\u001b[0m\u001b[0;31m:\u001b[0m cannot assign to function call\n"
     ]
    }
   ],
   "source": [
    "h(1) = subplot(3,2,1);\n",
    "h(2) = subplot(3,2,2);\n",
    "h(3) = subplot(3,2,3);\n",
    "h(4) = subplot(3,2,4);\n",
    "h(5) = subplot(3,2,5); #% the last (odd) axes\n",
    "pos = get(h,'Position');\n",
    "new = mean(cellfun(@(v)v(1),pos(1:2)));\n",
    "set(h(5),'Position',[new,pos{end}(2:end)])"
   ]
  },
  {
   "cell_type": "code",
   "execution_count": null,
   "metadata": {},
   "outputs": [
    {
     "data": {
      "image/png": "[encoded data removed]",
      "text/plain": [
       "<Figure size 432x288 with 1 Axes>"
      ]
     },
     "metadata": {
      "needs_background": "light"
     },
     "output_type": "display_data"
    },
    {
     "data": {
      "image/png": "[encoded data removed]",
      "text/plain": [
       "<Figure size 432x288 with 1 Axes>"
      ]
     },
     "metadata": {
      "needs_background": "light"
     },
     "output_type": "display_data"
    },
    {
     "data": {
      "image/png": "[encoded data removed]",
      "text/plain": [
       "<Figure size 432x288 with 1 Axes>"
      ]
     },
     "metadata": {
      "needs_background": "light"
     },
     "output_type": "display_data"
    },
    {
     "data": {
      "image/png": "[encoded data removed]",
      "text/plain": [
       "<Figure size 432x288 with 1 Axes>"
      ]
     },
     "metadata": {
      "needs_background": "light"
     },
     "output_type": "display_data"
    },
    {
     "data": {
      "image/png": "[encoded data removed]",
      "text/plain": [
       "<Figure size 432x288 with 1 Axes>"
      ]
     },
     "metadata": {
      "needs_background": "light"
     },
     "output_type": "display_data"
    }
   ],
   "source": [
    "streaming = ['streaming_one', 'streaming_two', 'streaming_monthly', 'streaming_fiber', 'streaming_dsl']\n",
    "\n",
    "streaming_mean = [telco_train['streaming_one'].mean(), telco_train['streaming_two'].mean(), telco_train['streaming_monthly'].mean(), telco_train['streaming_fiber'].mean(), telco_train['streaming_dsl'].mean()]\n",
    "\n",
    "# x_sec = security\n",
    "# y_sec = 'churn'\n",
    "#def security_bars():\n",
    "for x in range(0,5):\n",
    "        # fig, axes = plt.subplots(2, 2)\n",
    "        sns.barplot('churn',streaming[x], data=telco_train)\n",
    "        plt.xlabel('')\n",
    "        plt.title(streaming[x])\n",
    "        plt.axhline(streaming_mean[x], ls = '--', color = 'black')\n",
    "        plt.show()"
   ]
  },
  {
   "cell_type": "code",
   "execution_count": null,
   "metadata": {},
   "outputs": [
    {
     "ename": "IndexError",
     "evalue": "index 2 is out of bounds for axis 1 with size 2",
     "output_type": "error",
     "traceback": [
      "\u001b[0;31m---------------------------------------------------------------------------\u001b[0m",
      "\u001b[0;31mIndexError\u001b[0m                                Traceback (most recent call last)",
      "\u001b[1;32m/Users/jarad/codeup_data_science/Classification-Project---Churn-Prediction/classification_project_telco_progress.ipynb Cell 59'\u001b[0m in \u001b[0;36m<cell line: 6>\u001b[0;34m()\u001b[0m\n\u001b[1;32m      <a href='vscode-notebook-cell:/Users/jarad/codeup_data_science/Classification-Project---Churn-Prediction/classification_project_telco_progress.ipynb#ch0000060?line=3'>4</a>\u001b[0m sns\u001b[39m.\u001b[39mbarplot(x \u001b[39m=\u001b[39m \u001b[39m'\u001b[39m\u001b[39mchurn\u001b[39m\u001b[39m'\u001b[39m, y \u001b[39m=\u001b[39m \u001b[39m'\u001b[39m\u001b[39mbundled_monthly\u001b[39m\u001b[39m'\u001b[39m,data \u001b[39m=\u001b[39m telco_train, ax \u001b[39m=\u001b[39m axes[\u001b[39m1\u001b[39m,\u001b[39m0\u001b[39m])\n\u001b[1;32m      <a href='vscode-notebook-cell:/Users/jarad/codeup_data_science/Classification-Project---Churn-Prediction/classification_project_telco_progress.ipynb#ch0000060?line=4'>5</a>\u001b[0m sns\u001b[39m.\u001b[39mbarplot(x \u001b[39m=\u001b[39m \u001b[39m'\u001b[39m\u001b[39mchurn\u001b[39m\u001b[39m'\u001b[39m, y \u001b[39m=\u001b[39m \u001b[39m'\u001b[39m\u001b[39mbundled_one\u001b[39m\u001b[39m'\u001b[39m,data \u001b[39m=\u001b[39m telco_train, ax \u001b[39m=\u001b[39m axes[\u001b[39m1\u001b[39m,\u001b[39m1\u001b[39m])\n\u001b[0;32m----> <a href='vscode-notebook-cell:/Users/jarad/codeup_data_science/Classification-Project---Churn-Prediction/classification_project_telco_progress.ipynb#ch0000060?line=5'>6</a>\u001b[0m sns\u001b[39m.\u001b[39mbarplot(x \u001b[39m=\u001b[39m \u001b[39m'\u001b[39m\u001b[39mchurn\u001b[39m\u001b[39m'\u001b[39m, y \u001b[39m=\u001b[39m \u001b[39m'\u001b[39m\u001b[39mbundled_two\u001b[39m\u001b[39m'\u001b[39m,data \u001b[39m=\u001b[39m telco_train, ax \u001b[39m=\u001b[39m axes[\u001b[39m1\u001b[39;49m,\u001b[39m2\u001b[39;49m])\n\u001b[1;32m      <a href='vscode-notebook-cell:/Users/jarad/codeup_data_science/Classification-Project---Churn-Prediction/classification_project_telco_progress.ipynb#ch0000060?line=6'>7</a>\u001b[0m axes[\u001b[39m0\u001b[39m,\u001b[39m0\u001b[39m]\u001b[39m.\u001b[39mset_title(\u001b[39m\"\u001b[39m\u001b[39mAll bundled customers\u001b[39m\u001b[39m\"\u001b[39m)\n\u001b[1;32m      <a href='vscode-notebook-cell:/Users/jarad/codeup_data_science/Classification-Project---Churn-Prediction/classification_project_telco_progress.ipynb#ch0000060?line=7'>8</a>\u001b[0m axes[\u001b[39m1\u001b[39m,\u001b[39m0\u001b[39m]\u001b[39m.\u001b[39mset_title(\u001b[39m\"\u001b[39m\u001b[39mMonth to Month bundled\u001b[39m\u001b[39m\"\u001b[39m)\n",
      "\u001b[0;31mIndexError\u001b[0m: index 2 is out of bounds for axis 1 with size 2"
     ]
    },
    {
     "data": {
      "image/png": "[encoded data removed]",
      "text/plain": [
       "<Figure size 1440x720 with 4 Axes>"
      ]
     },
     "metadata": {
      "needs_background": "light"
     },
     "output_type": "display_data"
    }
   ],
   "source": [
    "fig, axes = plt.subplots(2, 2, figsize=(20,10))\n",
    "\n",
    "sns.barplot(x = 'churn', y = 'Bundled',data = telco_train, ax = axes[0, 0])\n",
    "sns.barplot(x = 'churn', y = 'bundled_monthly',data = telco_train, ax = axes[1,0])\n",
    "sns.barplot(x = 'churn', y = 'bundled_one',data = telco_train, ax = axes[1,1])\n",
    "sns.barplot(x = 'churn', y = 'bundled_two',data = telco_train, ax = axes[1,2])\n",
    "axes[0,0].set_title(\"All bundled customers\")\n",
    "axes[1,0].set_title(\"Month to Month bundled\")\n",
    "plt.suptitle(\"Telephone and Internet\")\n",
    "\n",
    "\n",
    "## Fiber doesn't have customers not bundled"
   ]
  },
  {
   "cell_type": "markdown",
   "metadata": {},
   "source": [
    "time to move onto modeling and using the features that I selected from doing my EDA on the Telco Data available. \n",
    "\n"
   ]
  },
  {
   "cell_type": "markdown",
   "metadata": {},
   "source": [
    "The features I am selecting are from my previous exerpeince and through statistical testing, they are:\n",
    "monthly_charges_group, contract_type_One year,  contract_type_Two year, Bundled, security_bundle, streaming_bundle"
   ]
  },
  {
   "cell_type": "code",
   "execution_count": 51,
   "metadata": {},
   "outputs": [],
   "source": [
    "x_vars = ['monthly_charge_groups', 'contract_type_One year', 'contract_type_Two year', 'Bundled', 'security_bundle', 'streaming_bundle']\n",
    "y_vars = 'churn_encoded'\n",
    "\n",
    "X_train, y_train = telco_train[x_vars], telco_train[y_vars]\n",
    "x_validate, y_validate = telco_validate[x_vars], telco_validate[y_vars]\n",
    "x_test, y_test = telco_test[x_vars], telco_test[y_vars]"
   ]
  },
  {
   "cell_type": "code",
   "execution_count": null,
   "metadata": {},
   "outputs": [],
   "source": [
    "metrics = []\n",
    "\n",
    "for i in range(2, 25):\n",
    "    # Make the model\n",
    "    forest = RandomForestClassifier(max_depth=i, random_state=123)\n",
    "\n",
    "    # Fit the model (on train and only train)\n",
    "    forest = forest.fit(X_train, y_train)\n",
    "\n",
    "    # Use the model\n",
    "    # We'll evaluate the model's performance on train, first\n",
    "    in_sample_accuracy = forest.score(X_train, y_train)\n",
    "    \n",
    "    out_of_sample_accuracy = forest.score(x_validate, y_validate)\n",
    "\n",
    "    output = {\n",
    "        \"max_depth\": i,\n",
    "        \"train_accuracy\": in_sample_accuracy,\n",
    "        \"validate_accuracy\": out_of_sample_accuracy\n",
    "    }\n",
    "    \n",
    "    metrics.append(output)\n",
    "    \n",
    "df = pd.DataFrame(metrics)\n",
    "df[\"difference\"] = df.train_accuracy - df.validate_accuracy\n",
    "df"
   ]
  }
 ],
 "metadata": {
  "interpreter": {
   "hash": "38cca0c38332a56087b24af0bc80247f4fced29cb4f7f437d91dc159adec9c4e"
  },
  "kernelspec": {
   "display_name": "Python 3.9.12 ('base')",
   "language": "python",
   "name": "python3"
  },
  "language_info": {
   "codemirror_mode": {
    "name": "ipython",
    "version": 3
   },
   "file_extension": ".py",
   "mimetype": "text/x-python",
   "name": "python",
   "nbconvert_exporter": "python",
   "pygments_lexer": "ipython3",
   "version": "3.9.12"
  },
  "orig_nbformat": 4
 },
 "nbformat": 4,
 "nbformat_minor": 2
}
